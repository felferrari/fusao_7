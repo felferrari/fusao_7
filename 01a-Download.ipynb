{
 "cells": [
  {
   "cell_type": "code",
   "execution_count": 1,
   "id": "e4392143",
   "metadata": {},
   "outputs": [],
   "source": [
    "%load_ext autoreload\n",
    "%autoreload 2"
   ]
  },
  {
   "cell_type": "code",
   "execution_count": 2,
   "id": "d17e181e",
   "metadata": {},
   "outputs": [],
   "source": [
    "from ops.ops import load_json, save_json\n",
    "from ops.gee import export_opt_rgb, export_sar_rgb, export_cloud_map, export_opt_2a, export_sar\n",
    "from ops.gee import export_edge, export_cirrus, export_opt_1c, export_cloud_scl\n",
    "import os\n",
    "import fiona\n",
    "from tqdm.notebook import tqdm_notebook\n",
    "import datetime\n"
   ]
  },
  {
   "cell_type": "code",
   "execution_count": 3,
   "id": "244ada1c",
   "metadata": {},
   "outputs": [],
   "source": [
    "import ee\n",
    "import geemap"
   ]
  },
  {
   "cell_type": "code",
   "execution_count": 4,
   "id": "7fbcf616",
   "metadata": {},
   "outputs": [
    {
     "data": {
      "text/html": [
       "<p>To authorize access needed by Earth Engine, open the following\n",
       "        URL in a web browser and follow the instructions:</p>\n",
       "        <p><a href=https://code.earthengine.google.com/client-auth?scopes=https%3A//www.googleapis.com/auth/earthengine%20https%3A//www.googleapis.com/auth/devstorage.full_control&request_id=ZgQKemAk61LYiDVFiKYH0yfSSqTkjmGRPfAnZsKZcl0&tc=wp4tXIBNEZc3RWO2ssb72nG8QCCaH0RqqgVqMCW6aAQ&cc=OUgdbkmGSBUkrLdeK5765syO8fvCKmqclkpg65feiUI>https://code.earthengine.google.com/client-auth?scopes=https%3A//www.googleapis.com/auth/earthengine%20https%3A//www.googleapis.com/auth/devstorage.full_control&request_id=ZgQKemAk61LYiDVFiKYH0yfSSqTkjmGRPfAnZsKZcl0&tc=wp4tXIBNEZc3RWO2ssb72nG8QCCaH0RqqgVqMCW6aAQ&cc=OUgdbkmGSBUkrLdeK5765syO8fvCKmqclkpg65feiUI</a></p>\n",
       "        <p>The authorization workflow will generate a code, which you\n",
       "        should paste in the box below</p>\n",
       "        "
      ],
      "text/plain": [
       "<IPython.core.display.HTML object>"
      ]
     },
     "metadata": {},
     "output_type": "display_data"
    },
    {
     "name": "stdin",
     "output_type": "stream",
     "text": [
      "Enter verification code:  4/1AdQt8qhUO7-HZXYVG2KcgqtIcj_pEGoqDvf4fOEejKJvlRPwbhmNgxYB0nY\n"
     ]
    },
    {
     "name": "stdout",
     "output_type": "stream",
     "text": [
      "\n",
      "Successfully saved authorization token.\n"
     ]
    }
   ],
   "source": [
    "ee.Authenticate()\n",
    "ee.Initialize()"
   ]
  },
  {
   "cell_type": "code",
   "execution_count": 5,
   "id": "4a5b6287",
   "metadata": {},
   "outputs": [],
   "source": [
    "paths = load_json(os.path.join('conf', 'paths.json'))\n",
    "shp = load_json(os.path.join('conf', 'shp.json'))\n",
    "shp_path = paths['shp']\n",
    "max_cloud_cover = 95\n",
    "max_thin_cirrus = 0.1\n",
    "delta_days = 10\n",
    "meta_path = os.path.join(paths['img'], 'metadata')\n",
    "tiles_shp = os.path.join(shp_path, shp['tiles'])"
   ]
  },
  {
   "cell_type": "code",
   "execution_count": 6,
   "id": "663ce9e1",
   "metadata": {},
   "outputs": [],
   "source": [
    "#Create a new GEE field with the absolute distance (in days) to a given date\n",
    "def prep_fn(date):\n",
    "    def diff_date(image):\n",
    "        img = image.set(\n",
    "            'dateDist',\n",
    "            ee.Number(image.get('system:time_start')).divide(60*60*24*1000).subtract(datetime.datetime.strptime(date, '%Y-%m-%d').timestamp()/(60*60*24)).abs().ceil()\n",
    "        )\n",
    "        img = img.set(\n",
    "            'date',\n",
    "            ee.Date(image.get('system:time_start')).format('YYYY-MM-dd')\n",
    "        )\n",
    "        img = img.set(\n",
    "            'jday',\n",
    "            ee.Date(image.get('system:time_start')).format('YYDDD')\n",
    "        )\n",
    "        return img\n",
    "    return diff_date"
   ]
  },
  {
   "cell_type": "code",
   "execution_count": 7,
   "id": "0326ac59",
   "metadata": {},
   "outputs": [],
   "source": [
    "def mask2clouds(image):\n",
    "    qa = image.select('QA60')\n",
    "    cloudBits = 1<<10\n",
    "    cirrusBits = 1<<11\n",
    "    \n",
    "    mask = qa.bitwiseAnd(cloudBits).eq(0).And(qa.bitwiseAnd(cirrusBits).eq(0))\n",
    "    \n",
    "    return image.updateMask(mask)"
   ]
  },
  {
   "cell_type": "markdown",
   "id": "edb17ff2",
   "metadata": {},
   "source": [
    "### Inspect images dates available"
   ]
  },
  {
   "cell_type": "code",
   "execution_count": 8,
   "id": "ff3b271f",
   "metadata": {},
   "outputs": [
    {
     "data": {
      "application/vnd.jupyter.widget-view+json": {
       "model_id": "1437366490d74469ba2aa69d835665e8",
       "version_major": 2,
       "version_minor": 0
      },
      "text/plain": [
       "Tiles evaluated:   0%|          | 0/1 [00:00<?, ?it/s]"
      ]
     },
     "metadata": {},
     "output_type": "display_data"
    },
    {
     "name": "stdout",
     "output_type": "stream",
     "text": [
      "2018-07-06   2018-08-15\n",
      "2019-07-25   2019-09-03\n",
      "2020-07-11   2020-08-20\n",
      "==========OPTICAL DATA==============\n",
      "{'2018-07-07': 6, '2018-07-12': 6, '2018-07-17': 6, '2018-07-22': 6, '2018-07-27': 6, '2018-08-01': 6, '2018-08-06': 6, '2018-08-11': 6}\n",
      "[18188, 18193, 18198, 18203, 18208, 18213, 18218, 18223]\n",
      "{'2019-07-27': 6, '2019-08-01': 6, '2019-08-06': 6, '2019-08-11': 6, '2019-08-16': 6, '2019-08-21': 6, '2019-08-26': 6, '2019-08-31': 6}\n",
      "[19208, 19213, 19218, 19223, 19228, 19233, 19238, 19243]\n",
      "{'2020-07-11': 6, '2020-07-16': 6, '2020-07-21': 6, '2020-07-26': 6, '2020-07-31': 6, '2020-08-05': 6, '2020-08-10': 6, '2020-08-15': 6}\n",
      "[20193, 20198, 20203, 20208, 20213, 20218, 20223, 20228]\n",
      "==========SAR DATA==============\n",
      "{'2018-07-12': 2, '2018-07-17': 2, '2018-07-24': 2, '2018-07-29': 2, '2018-08-05': 2, '2018-08-10': 2}\n",
      "[18193, 18198, 18205, 18210, 18217, 18222]\n",
      "{'2019-08-05': 2, '2019-08-12': 2, '2019-08-17': 2, '2019-08-24': 2, '2019-08-29': 2}\n",
      "[19217, 19224, 19229, 19236, 19241]\n",
      "{'2020-07-12': 2, '2020-07-13': 2, '2020-07-18': 2, '2020-07-24': 2, '2020-07-25': 2, '2020-07-30': 2, '2020-08-05': 2, '2020-08-06': 2, '2020-08-11': 2, '2020-08-17': 2, '2020-08-18': 2}\n",
      "[20194, 20195, 20200, 20206, 20207, 20212, 20218, 20219, 20224, 20230, 20231]\n"
     ]
    }
   ],
   "source": [
    "delta_days = 20\n",
    "\n",
    "with fiona.open(tiles_shp) as grid:\n",
    "    for feat in tqdm_notebook(grid, desc = 'Tiles evaluated'):\n",
    "        roi = ee.Geometry(feat['geometry'])\n",
    "        \n",
    "        jd18 = int(feat['properties']['d_2018'])\n",
    "        jd19 = int(feat['properties']['d_2019'])\n",
    "        jd20 = int(feat['properties']['d_2020'])\n",
    "        \n",
    "        d18_1 = datetime.datetime.strptime(f'18{jd18-delta_days}', '%y%j').strftime('%Y-%m-%d')\n",
    "        d18_2 = datetime.datetime.strptime(f'18{jd18+delta_days}', '%y%j').strftime('%Y-%m-%d')\n",
    "        print(f'{d18_1}   {d18_2}')\n",
    "        \n",
    "        d19_1 = datetime.datetime.strptime(f'19{jd19-delta_days}', '%y%j').strftime('%Y-%m-%d')\n",
    "        d19_2 = datetime.datetime.strptime(f'19{jd19+delta_days}', '%y%j').strftime('%Y-%m-%d')\n",
    "        print(f'{d19_1}   {d19_2}')\n",
    "        \n",
    "        d20_1 = datetime.datetime.strptime(f'20{jd20-delta_days}', '%y%j').strftime('%Y-%m-%d')\n",
    "        d20_2 = datetime.datetime.strptime(f'20{jd20+delta_days}', '%y%j').strftime('%Y-%m-%d')\n",
    "        print(f'{d20_1}   {d20_2}')\n",
    "        \n",
    "        \n",
    "        print('==========OPTICAL DATA==============')\n",
    "        opt_col_2018 = ee.ImageCollection('COPERNICUS/S2').filterDate(d18_1, d18_2).filterBounds(roi)\n",
    "        opt_col_2018 = opt_col_2018.map(prep_fn(d18_1))\n",
    "        \n",
    "        print(opt_col_2018.aggregate_histogram('date').getInfo())\n",
    "        d18jday = opt_col_2018.aggregate_histogram('jday').getInfo().keys()\n",
    "        opt_dates_18 = list(map(int, list(d18jday)))\n",
    "        print(opt_dates_18)\n",
    "        \n",
    "        opt_col_2019 = ee.ImageCollection('COPERNICUS/S2').filterDate(d19_1, d19_2).filterBounds(roi)\n",
    "        opt_col_2019 = opt_col_2019.map(prep_fn(d19_1))\n",
    "        print(opt_col_2019.aggregate_histogram('date').getInfo())\n",
    "        d19jday = opt_col_2019.aggregate_histogram('jday').getInfo().keys()\n",
    "        opt_dates_19 = list(map(int, list(d19jday)))\n",
    "        print(opt_dates_19)\n",
    "        \n",
    "        opt_col_2020 = ee.ImageCollection('COPERNICUS/S2').filterDate(d20_1, d20_2).filterBounds(roi)\n",
    "        opt_col_2020 = opt_col_2020.map(prep_fn(d20_1))\n",
    "        print(opt_col_2020.aggregate_histogram('date').getInfo())\n",
    "        d20jday = opt_col_2020.aggregate_histogram('jday').getInfo().keys()\n",
    "        opt_dates_20 = list(map(int, list(d20jday)))\n",
    "        print(opt_dates_20)\n",
    "        \n",
    "    \n",
    "        print('==========SAR DATA==============')\n",
    "        sar_col_2018 = ee.ImageCollection('COPERNICUS/S1_GRD').filterDate(d18_1, d18_2).filterBounds(roi)\n",
    "        sar_col_2018 = sar_col_2018.map(prep_fn(d18_1))\n",
    "        print(sar_col_2018.aggregate_histogram('date').getInfo())\n",
    "        d18jday = sar_col_2018.aggregate_histogram('jday').getInfo().keys()\n",
    "        sar_dates_18 = list(map(int, list(d18jday)))\n",
    "        print(sar_dates_18)\n",
    "        \n",
    "        sar_col_2019 = ee.ImageCollection('COPERNICUS/S1_GRD').filterDate(d19_1, d19_2).filterBounds(roi)\n",
    "        sar_col_2019 = sar_col_2019.map(prep_fn(d19_1))\n",
    "        print(sar_col_2019.aggregate_histogram('date').getInfo())\n",
    "        d19jday = sar_col_2019.aggregate_histogram('jday').getInfo().keys()\n",
    "        sar_dates_19 = list(map(int, list(d19jday)))\n",
    "        print(sar_dates_19)\n",
    "        \n",
    "        sar_col_2020 = ee.ImageCollection('COPERNICUS/S1_GRD').filterDate(d20_1, d20_2).filterBounds(roi)\n",
    "        sar_col_2020 = sar_col_2020.map(prep_fn(d20_1))\n",
    "        print(sar_col_2020.aggregate_histogram('date').getInfo())\n",
    "        d20jday = sar_col_2020.aggregate_histogram('jday').getInfo().keys()\n",
    "        sar_dates_20 = list(map(int, list(d20jday)))\n",
    "        print(sar_dates_20)\n"
   ]
  },
  {
   "cell_type": "markdown",
   "id": "ae16344c",
   "metadata": {},
   "source": [
    "### Load images in the map"
   ]
  },
  {
   "cell_type": "code",
   "execution_count": 9,
   "id": "c7cb4492",
   "metadata": {},
   "outputs": [
    {
     "data": {
      "application/vnd.jupyter.widget-view+json": {
       "model_id": "3adb2c2ad06541e8a2707c9458d72a77",
       "version_major": 2,
       "version_minor": 0
      },
      "text/plain": [
       "Map(center=[-7.2, -60], controls=(WidgetControl(options=['position', 'transparent_bg'], widget=HBox(children=(…"
      ]
     },
     "metadata": {},
     "output_type": "display_data"
    }
   ],
   "source": [
    "Map = geemap.Map(center=(-7.2, -60), zoom=8)\n",
    "Map.addLayerControl()\n",
    "\n",
    "tiles = geemap.shp_to_ee(tiles_shp)\n",
    "Map.addLayer(tiles, {}, 'Tiles')\n",
    "\n",
    "opt_vizParams = {\n",
    "  'bands': ['B4', 'B3', 'B2'],\n",
    "  'min': 0,\n",
    "  'max': 2048\n",
    "}\n",
    "\n",
    "sar_vizParams = {\n",
    "  'bands': ['VV'],\n",
    "  'min': -20,\n",
    "  'max': 1\n",
    "}\n",
    "\n",
    "Map"
   ]
  },
  {
   "cell_type": "markdown",
   "id": "7d2938f6",
   "metadata": {},
   "source": [
    "#### 2018"
   ]
  },
  {
   "cell_type": "code",
   "execution_count": 10,
   "id": "605c81a2",
   "metadata": {
    "scrolled": true
   },
   "outputs": [],
   "source": [
    "#opt_dates_18 = [18188, 18193, 18198, 18203, 18208, 18213, 18218, 18223]\n",
    "#sar_dates_18 = [18193, 18198, 18205, 18210, 18217, 18222]\n",
    "\n",
    "for opt_img_date_18 in opt_dates_18:\n",
    "    d =  datetime.datetime.strptime(f'{opt_img_date_18}', '%y%j').strftime('%Y-%m-%d')\n",
    "    d_1 = datetime.datetime.strptime(f'{opt_img_date_18+1}', '%y%j').strftime('%Y-%m-%d')\n",
    "    \n",
    "    opt_col_2018 = ee.ImageCollection('COPERNICUS/S2').filterDate(d, d_1).filterBounds(roi)\n",
    "    opt_img = opt_col_2018.mosaic()\n",
    "    Map.addLayer(opt_img.clip(roi), opt_vizParams, f'opt_{opt_img_date_18}')\n",
    "    #Map.addLayer(opt_img, opt_vizParams, f'opt_{opt_img_date_18}')\n",
    "    \n",
    "for sar_img_date_18 in sar_dates_18:\n",
    "    d =  datetime.datetime.strptime(f'{sar_img_date_18}', '%y%j').strftime('%Y-%m-%d')\n",
    "    d_1 = datetime.datetime.strptime(f'{sar_img_date_18+1}', '%y%j').strftime('%Y-%m-%d')\n",
    "    \n",
    "    sar_col_2018 = ee.ImageCollection('COPERNICUS/S1_GRD').filterDate(d, d_1).filterBounds(roi)\n",
    "    sar_img = sar_col_2018.mosaic()\n",
    "    Map.addLayer(sar_img.clip(roi), sar_vizParams, f'sar_{sar_img_date_18}')\n",
    "    #Map.addLayer(sar_img.clip(roi), sar_vizParams, f'sar_{sar_img_date_18}')\n",
    "    "
   ]
  },
  {
   "cell_type": "markdown",
   "id": "6a5c7893",
   "metadata": {},
   "source": [
    "#### 2019"
   ]
  },
  {
   "cell_type": "code",
   "execution_count": 24,
   "id": "23d31c7b",
   "metadata": {},
   "outputs": [],
   "source": [
    "#opt_dates_19 = [19204, 19209, 19214, 19219, 19224, 19229, 19234, 19239]\n",
    "#sar_dates_19 = [19209, 19221, 19233]\n",
    "\n",
    "for opt_img_date_19 in opt_dates_19:\n",
    "    d =  datetime.datetime.strptime(f'{opt_img_date_19}', '%y%j').strftime('%Y-%m-%d')\n",
    "    d_1 = datetime.datetime.strptime(f'{opt_img_date_19+1}', '%y%j').strftime('%Y-%m-%d')\n",
    "    \n",
    "    opt_col_2019 = ee.ImageCollection('COPERNICUS/S2').filterDate(d, d_1).filterBounds(roi)\n",
    "    opt_img = opt_col_2019.mosaic()\n",
    "    Map.addLayer(opt_img.clip(roi), opt_vizParams, f'opt_{opt_img_date_19}')\n",
    "    #Map.addLayer(opt_img, opt_vizParams, f'opt_{opt_img_date_19}')\n",
    "    \n",
    "for sar_img_date_19 in sar_dates_19:\n",
    "    d =  datetime.datetime.strptime(f'{sar_img_date_19}', '%y%j').strftime('%Y-%m-%d')\n",
    "    d_1 = datetime.datetime.strptime(f'{sar_img_date_19+1}', '%y%j').strftime('%Y-%m-%d')\n",
    "    \n",
    "    sar_col_2019 = ee.ImageCollection('COPERNICUS/S1_GRD').filterDate(d, d_1).filterBounds(roi)\n",
    "    sar_img = sar_col_2019.mosaic()\n",
    "    Map.addLayer(sar_img.clip(roi), sar_vizParams, f'sar_{sar_img_date_19}')\n",
    "    #Map.addLayer(sar_img.clip(roi), sar_vizParams, f'sar_{sar_img_date_19}')\n",
    "    "
   ]
  },
  {
   "cell_type": "markdown",
   "id": "8e556f57",
   "metadata": {},
   "source": [
    "#### 2020"
   ]
  },
  {
   "cell_type": "code",
   "execution_count": 14,
   "id": "f9c29f97",
   "metadata": {},
   "outputs": [],
   "source": [
    "#opt_dates_20 = [20209, 20214, 20219, 20224, 20229, 20234, 20239, 20244]\n",
    "#sar_dates_20 = [20216, 20228, 20240]\n",
    "\n",
    "for opt_img_date_20 in opt_dates_20:\n",
    "    d =  datetime.datetime.strptime(f'{opt_img_date_20}', '%y%j').strftime('%Y-%m-%d')\n",
    "    d_1 = datetime.datetime.strptime(f'{opt_img_date_20+1}', '%y%j').strftime('%Y-%m-%d')\n",
    "    \n",
    "    opt_col_2020 = ee.ImageCollection('COPERNICUS/S2').filterDate(d, d_1).filterBounds(roi)\n",
    "    opt_img = opt_col_2020.mosaic()\n",
    "    Map.addLayer(opt_img.clip(roi), opt_vizParams, f'opt_{opt_img_date_20}')\n",
    "    #Map.addLayer(opt_img, opt_vizParams, f'opt_{opt_img_date_20}')\n",
    "    \n",
    "for sar_img_date_20 in sar_dates_20:\n",
    "    d =  datetime.datetime.strptime(f'{sar_img_date_20}', '%y%j').strftime('%Y-%m-%d')\n",
    "    d_1 = datetime.datetime.strptime(f'{sar_img_date_20+1}', '%y%j').strftime('%Y-%m-%d')\n",
    "    \n",
    "    sar_col_2020 = ee.ImageCollection('COPERNICUS/S1_GRD').filterDate(d, d_1).filterBounds(roi)\n",
    "    sar_img = sar_col_2020.mosaic()\n",
    "    Map.addLayer(sar_img.clip(roi), sar_vizParams, f'sar_{sar_img_date_20}')\n",
    "    #Map.addLayer(sar_img.clip(roi), sar_vizParams, f'sar_{sar_img_date_20}')\n",
    "    "
   ]
  },
  {
   "cell_type": "markdown",
   "id": "241377f7",
   "metadata": {},
   "source": [
    "### Downloading individual images "
   ]
  },
  {
   "cell_type": "code",
   "execution_count": 15,
   "id": "ddb77dc5",
   "metadata": {
    "scrolled": true
   },
   "outputs": [],
   "source": [
    "opt_dates = [18208, 18218, 18193, 19228, 19233, 19208, 20218, 20213, 20223]\n",
    "sar_dates = [18210, 18222, 18198, 19229, 19241, 19217, 20218, 20212, 20224]\n",
    "\n",
    "t_opt = []\n",
    "for opt_img_date in opt_dates:\n",
    "    d =  datetime.datetime.strptime(f'{opt_img_date}', '%y%j').strftime('%Y-%m-%d')\n",
    "    d_1 = datetime.datetime.strptime(f'{opt_img_date+1}', '%y%j').strftime('%Y-%m-%d')\n",
    "    \n",
    "    opt_col = ee.ImageCollection('COPERNICUS/S2').filterDate(d, d_1).filterBounds(roi)\n",
    "    opt_img = opt_col.mosaic()\n",
    "    t_opt.append(export_opt_1c(opt_img, roi, f'{opt_img_date}'))\n",
    "    #t_opt.append(export_opt_rgb(opt_img, roi, f'opt_{opt_img_date}'))\n",
    "    \n",
    "    \n",
    "    \n",
    "t_sar = []\n",
    "for sar_img_date in sar_dates:\n",
    "    d =  datetime.datetime.strptime(f'{sar_img_date}', '%y%j').strftime('%Y-%m-%d')\n",
    "    d_1 = datetime.datetime.strptime(f'{sar_img_date+1}', '%y%j').strftime('%Y-%m-%d')\n",
    "    \n",
    "    sar_col = ee.ImageCollection('COPERNICUS/S1_GRD').filterDate(d, d_1).filterBounds(roi)\n",
    "    sar_img = sar_col.mosaic()\n",
    "    t_sar.append(export_sar(sar_img, roi, f'{sar_img_date}'))\n",
    "    #t_sar.append(export_sar_rgb(sar_img, roi, f'sar_{sar_img_date}'))\n",
    "    "
   ]
  },
  {
   "cell_type": "markdown",
   "id": "cd9dba30",
   "metadata": {},
   "source": [
    "### Download free-cloud mosaic"
   ]
  },
  {
   "cell_type": "code",
   "execution_count": 8,
   "id": "7a7a250f",
   "metadata": {},
   "outputs": [
    {
     "data": {
      "application/vnd.jupyter.widget-view+json": {
       "model_id": "d2f93c55b8e742b1b2bda941a808ad11",
       "version_major": 2,
       "version_minor": 0
      },
      "text/plain": [
       "Map(center=[-7.2, -60], controls=(WidgetControl(options=['position', 'transparent_bg'], widget=HBox(children=(…"
      ]
     },
     "metadata": {},
     "output_type": "display_data"
    }
   ],
   "source": [
    "Map = geemap.Map(center=(-7.2, -60), zoom=10)\n",
    "Map.addLayerControl()\n",
    "\n",
    "tiles = geemap.shp_to_ee(tiles_shp)\n",
    "Map.addLayer(tiles, {}, 'Tiles')\n",
    "\n",
    "opt_vizParams = {\n",
    "  'bands': ['B4', 'B3', 'B2'],\n",
    "  'min': 0,\n",
    "  'max': 2048\n",
    "}\n",
    "\n",
    "sar_vizParams = {\n",
    "  'bands': ['VV'],\n",
    "  'min': -20,\n",
    "  'max': 1\n",
    "}\n",
    "\n",
    "Map"
   ]
  },
  {
   "cell_type": "code",
   "execution_count": 16,
   "id": "76267d73",
   "metadata": {},
   "outputs": [
    {
     "data": {
      "application/vnd.jupyter.widget-view+json": {
       "model_id": "41fe5704504743819593a896e05ae6f1",
       "version_major": 2,
       "version_minor": 0
      },
      "text/plain": [
       "Tiles evaluated:   0%|          | 0/1 [00:00<?, ?it/s]"
      ]
     },
     "metadata": {},
     "output_type": "display_data"
    },
    {
     "name": "stdout",
     "output_type": "stream",
     "text": [
      "2018-07-06   2018-08-15\n",
      "2019-07-25   2019-09-03\n",
      "2020-07-11   2020-08-20\n"
     ]
    },
    {
     "data": {
      "text/plain": [
       "<ee.imagecollection.ImageCollection at 0x1d7b94e36d0>"
      ]
     },
     "execution_count": 16,
     "metadata": {},
     "output_type": "execute_result"
    }
   ],
   "source": [
    "delta_days = 20\n",
    "max_cloud_cover = 5\n",
    "max_thin_cirrus = 0.1\n",
    "\n",
    "with fiona.open(tiles_shp) as grid:\n",
    "    for feat in tqdm_notebook(grid, desc = 'Tiles evaluated'):\n",
    "        roi = ee.Geometry(feat['geometry'])\n",
    "        \n",
    "        jd18 = int(feat['properties']['d_2018'])\n",
    "        jd19 = int(feat['properties']['d_2019'])\n",
    "        jd20 = int(feat['properties']['d_2020'])\n",
    "        \n",
    "        d18_1 = datetime.datetime.strptime(f'18{jd18-delta_days}', '%y%j').strftime('%Y-%m-%d')\n",
    "        d18_2 = datetime.datetime.strptime(f'18{jd18+delta_days}', '%y%j').strftime('%Y-%m-%d')\n",
    "        print(f'{d18_1}   {d18_2}')\n",
    "        \n",
    "        d19_1 = datetime.datetime.strptime(f'19{jd19-delta_days}', '%y%j').strftime('%Y-%m-%d')\n",
    "        d19_2 = datetime.datetime.strptime(f'19{jd19+delta_days}', '%y%j').strftime('%Y-%m-%d')\n",
    "        print(f'{d19_1}   {d19_2}')\n",
    "        \n",
    "        d20_1 = datetime.datetime.strptime(f'20{jd20-delta_days}', '%y%j').strftime('%Y-%m-%d')\n",
    "        d20_2 = datetime.datetime.strptime(f'20{jd20+delta_days}', '%y%j').strftime('%Y-%m-%d')\n",
    "        print(f'{d20_1}   {d20_2}')\n",
    "        \n",
    "        \n",
    "        opt_col_2018 = ee.ImageCollection('COPERNICUS/S2').filterDate(d18_1, d18_2).filterBounds(roi)\n",
    "        opt_col_2018 = opt_col_2018.map(prep_fn(d18_1)).filter(ee.Filter.lt('CLOUDY_PIXEL_PERCENTAGE',max_cloud_cover))\n",
    "        opt_2018 = opt_col_2018.map(mask2clouds).median().toUint16()\n",
    "        Map.addLayer(opt_2018.clip(roi), opt_vizParams, f'Sentinel 2 Mosaic from 2018')\n",
    "\n",
    "        export_opt_1c(opt_2018, roi, \"cloud_free_2018\")\n",
    "\n",
    "        opt_col_2019 = ee.ImageCollection('COPERNICUS/S2').filterDate(d19_1, d19_2).filterBounds(roi)\n",
    "        opt_col_2019 = opt_col_2019.map(prep_fn(d19_1)).filter(ee.Filter.lt('CLOUDY_PIXEL_PERCENTAGE',max_cloud_cover))\n",
    "        opt_2019 = opt_col_2019.map(mask2clouds).median().toUint16()\n",
    "        Map.addLayer(opt_2019.clip(roi), opt_vizParams, f'Sentinel 2 Mosaic from 2019')\n",
    "\n",
    "        export_opt_1c(opt_2019, roi, 'cloud_free_2019')\n",
    "\n",
    "        opt_col_2020 = ee.ImageCollection('COPERNICUS/S2').filterDate(d20_1, d20_2).filterBounds(roi)\n",
    "        opt_col_2020 = opt_col_2020.map(prep_fn(d20_1)).filter(ee.Filter.lt('CLOUDY_PIXEL_PERCENTAGE',max_cloud_cover))\n",
    "        opt_2020 = opt_col_2020.map(mask2clouds).median().toUint16()\n",
    "        Map.addLayer(opt_2020.clip(roi), opt_vizParams, f'Sentinel 2 Mosaic from 2020')\n",
    "\n",
    "        export_opt_1c(opt_2020, roi, 'cloud_free_2020')\n",
    "        \n",
    "        "
   ]
  },
  {
   "cell_type": "code",
   "execution_count": null,
   "id": "5f84e967",
   "metadata": {},
   "outputs": [],
   "source": []
  }
 ],
 "metadata": {
  "kernelspec": {
   "display_name": "Python 3 (ipykernel)",
   "language": "python",
   "name": "python3"
  },
  "language_info": {
   "codemirror_mode": {
    "name": "ipython",
    "version": 3
   },
   "file_extension": ".py",
   "mimetype": "text/x-python",
   "name": "python",
   "nbconvert_exporter": "python",
   "pygments_lexer": "ipython3",
   "version": "3.9.12"
  },
  "vscode": {
   "interpreter": {
    "hash": "6984327cd4a671f1c687c03fe0b5d8b7594868635f0d5dbeb7c4ac1a044793af"
   }
  }
 },
 "nbformat": 4,
 "nbformat_minor": 5
}
