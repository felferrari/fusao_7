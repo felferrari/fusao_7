{
 "cells": [
  {
   "cell_type": "code",
   "execution_count": 1,
   "id": "ccc4473a",
   "metadata": {},
   "outputs": [],
   "source": [
    "%load_ext autoreload\n",
    "%autoreload 2"
   ]
  },
  {
   "cell_type": "code",
   "execution_count": 1,
   "id": "c9452d15",
   "metadata": {},
   "outputs": [],
   "source": [
    "from osgeo import gdal\n",
    "from osgeo import gdalconst\n",
    "import os\n",
    "from osgeo import ogr\n",
    "from osgeo import osr\n",
    "import fiona\n",
    "from ops.ops import load_json\n",
    "from tqdm.notebook import tqdm_notebook\n",
    "from osgeo import gdal_array\n",
    "from skimage.morphology import disk, dilation, erosion\n",
    "import numpy as np"
   ]
  },
  {
   "cell_type": "code",
   "execution_count": 2,
   "id": "82f4aaa7",
   "metadata": {},
   "outputs": [],
   "source": [
    "#image_folder = 'img/GEE-imgs'\n",
    "\n",
    "paths = load_json(os.path.join('conf', 'paths.json'))\n",
    "shp = load_json(os.path.join('conf', 'shp.json'))\n",
    "conf = load_json(os.path.join('conf', 'conf.json'))\n",
    "shp_path = paths['shp']\n",
    "\n",
    "img_source = conf['img_source']\n",
    "grid_save = os.path.join('shp', f\"tiles.shp\")\n"
   ]
  },
  {
   "cell_type": "code",
   "execution_count": 3,
   "id": "f6f15e40",
   "metadata": {},
   "outputs": [],
   "source": [
    "image_folder = os.path.join('img', 'opt')\n",
    "labels_folder = os.path.join('img', 'labels')\n",
    "\n",
    "image_p = os.path.join(image_folder, '2017', f'PA_S2_2017_B1_B2_B3_crop.tif')\n",
    "\n",
    "v_def_until_2007 = ogr.Open(os.path.join(shp_path, 'accumulated_deforestation_area.shp'))\n",
    "l_def_until_2007 = v_def_until_2007.GetLayer()\n",
    "\n",
    "v_hidro = ogr.Open(os.path.join(shp_path, 'hidro_area.shp'))\n",
    "l_hidro = v_hidro.GetLayer()\n",
    "\n",
    "v_no_forest = ogr.Open(os.path.join(shp_path, 'no_forest_area.shp'))\n",
    "l_no_forest = v_no_forest.GetLayer()\n",
    "\n",
    "#v_def_2008_2017 = ogr.Open(os.path.join(shp_path, 'deforestation_until_2017.shp'))\n",
    "#l_def_2008_2017 = v_def_2008_2017.GetLayer()\n",
    "\n",
    "v_def_yearly = ogr.Open(os.path.join(shp_path, 'yearly_deforestation_area.shp'))\n",
    "l_def_yearly = v_def_yearly.GetLayer()\n",
    "\n",
    "data = gdal.Open(image_p, gdalconst.GA_ReadOnly)\n",
    "\n",
    "geo_transform = data.GetGeoTransform()\n",
    "#x_min = geo_transform[0]\n",
    "#y_max = geo_transform[3]\n",
    "#x_max = x_min + geo_transform[1] * data.RasterXSize\n",
    "#y_min = y_max + geo_transform[5] * data.RasterYSize\n",
    "x_res = data.RasterXSize\n",
    "y_res = data.RasterYSize\n",
    "\n",
    "crs = data.GetSpatialRef()\n",
    "proj = data.GetProjection()\n",
    "\n",
    "pixel_width = geo_transform[1]"
   ]
  },
  {
   "cell_type": "markdown",
   "id": "ce92b5e6",
   "metadata": {},
   "source": [
    "## Year ref"
   ]
  },
  {
   "cell_type": "code",
   "execution_count": 5,
   "id": "55725037",
   "metadata": {},
   "outputs": [],
   "source": [
    "ref_year = 2019\n",
    "\n",
    "output = os.path.join(labels_folder, f'label_{ref_year}.tif')\n",
    "\n",
    "target_ds = gdal.GetDriverByName('GTiff').Create(output, x_res, y_res, 1, gdal.GDT_Byte)\n",
    "#target_ds.SetGeoTransform((x_min, geo_transform[1], 0, y_min, 0, geo_transform[5]))\n",
    "target_ds.SetGeoTransform(geo_transform)\n",
    "target_ds.SetSpatialRef(crs)\n",
    "target_ds.SetProjection(proj)\n",
    "band = target_ds.GetRasterBand(1)\n",
    "#NoData_value = 0\n",
    "#band.SetNoDataValue(NoData_value)\n",
    "band.FlushCache()\n",
    "where_past = f'\"year\"<={ref_year-1}'\n",
    "where_ref = f'\"year\"={ref_year}'\n",
    "gdal.RasterizeLayer(target_ds, [1], l_hidro, burn_values=[2])\n",
    "gdal.RasterizeLayer(target_ds, [1], l_no_forest, burn_values=[2])\n",
    "gdal.RasterizeLayer(target_ds, [1], l_def_until_2007, burn_values=[2])\n",
    "\n",
    "l_def_yearly.SetAttributeFilter(where_past)\n",
    "gdal.RasterizeLayer(target_ds, [1], l_def_yearly, burn_values=[2])\n",
    "\n",
    "l_def_yearly.SetAttributeFilter(where_ref)\n",
    "gdal.RasterizeLayer(target_ds, [1], l_def_yearly, burn_values=[1])\n",
    "rasterized_data = target_ds.ReadAsArray() \n",
    "defor_data = rasterized_data == 1\n",
    "defor_data = defor_data.astype(np.uint8)\n",
    "\n",
    "border_data = dilation(defor_data, disk(1)) - erosion(defor_data, disk(1))\n",
    "rasterized_data[border_data==1] = 2\n",
    "\n",
    "target_ds.GetRasterBand(1).WriteArray(rasterized_data)\n",
    "target_ds = None"
   ]
  },
  {
   "cell_type": "code",
   "execution_count": null,
   "id": "f2dd981f",
   "metadata": {},
   "outputs": [],
   "source": []
  }
 ],
 "metadata": {
  "interpreter": {
   "hash": "6984327cd4a671f1c687c03fe0b5d8b7594868635f0d5dbeb7c4ac1a044793af"
  },
  "kernelspec": {
   "display_name": "Python 3 (ipykernel)",
   "language": "python",
   "name": "python3"
  },
  "language_info": {
   "codemirror_mode": {
    "name": "ipython",
    "version": 3
   },
   "file_extension": ".py",
   "mimetype": "text/x-python",
   "name": "python",
   "nbconvert_exporter": "python",
   "pygments_lexer": "ipython3",
   "version": "3.9.12"
  }
 },
 "nbformat": 4,
 "nbformat_minor": 5
}
