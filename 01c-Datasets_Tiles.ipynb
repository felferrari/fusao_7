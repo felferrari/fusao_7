{
 "cells": [
  {
   "cell_type": "code",
   "execution_count": 2,
   "id": "915dc46b",
   "metadata": {},
   "outputs": [],
   "source": [
    "%load_ext autoreload\n",
    "%autoreload 2"
   ]
  },
  {
   "cell_type": "code",
   "execution_count": 1,
   "id": "c9452d15",
   "metadata": {},
   "outputs": [],
   "source": [
    "from osgeo import gdal\n",
    "from osgeo import gdalconst\n",
    "import os\n",
    "from osgeo import ogr\n",
    "from osgeo import osr\n",
    "import fiona\n",
    "from ops.ops import load_json, load_opt_image\n",
    "from tqdm.notebook import tqdm_notebook\n",
    "from osgeo import gdal_array\n",
    "from skimage.morphology import disk, dilation, erosion\n",
    "import numpy as np\n",
    "from s2cloudless import get_s2_evalscript, S2PixelCloudDetector"
   ]
  },
  {
   "cell_type": "code",
   "execution_count": 2,
   "id": "82f4aaa7",
   "metadata": {},
   "outputs": [],
   "source": [
    "#image_folder = 'img/GEE-imgs'\n",
    "\n",
    "paths = load_json(os.path.join('conf', 'paths.json'))\n",
    "conf = load_json(os.path.join('conf', 'conf.json'))\n",
    "\n"
   ]
  },
  {
   "cell_type": "code",
   "execution_count": 8,
   "id": "6888da16",
   "metadata": {},
   "outputs": [
    {
     "name": "stdout",
     "output_type": "stream",
     "text": [
      "(17730, 9203)\n"
     ]
    }
   ],
   "source": [
    "image_folder = os.path.join('img', 'opt')\n",
    "labels_folder = os.path.join('img', 'labels')\n",
    "split_tiles = [6, 3]\n",
    "val_tiles = [0, 2, 7, 9, 12,13] \n",
    "\n",
    "opt_file = os.path.join(image_folder, '2017', f'PA_S2_2017_B1_B2_B3_crop.tif')\n",
    "opt_data = load_opt_image(opt_file)\n",
    "\n",
    "shape = opt_data.shape[0:2]\n",
    "print(shape)\n",
    "\n",
    "tiles = np.zeros(shape, dtype=np.uint8).reshape((-1,1))\n",
    "idx_matrix = np.arange(shape[0]*shape[1], dtype=np.uint32).reshape(shape)\n",
    "\n",
    "tiles_idx = []\n",
    "for hor in np.array_split(idx_matrix, split_tiles[0], axis=0):\n",
    "    for tile in np.array_split(hor, split_tiles[1], axis=1):\n",
    "        tiles_idx.append(tile)\n",
    "\n",
    "   \n",
    "for i, tile in enumerate(tiles_idx):\n",
    "    if i in val_tiles:\n",
    "        tiles[tile] = 1\n",
    "\n",
    "\n",
    "tiles = tiles.reshape(shape)\n",
    "\n",
    "data = gdal.Open(opt_file, gdalconst.GA_ReadOnly)\n",
    "geo_transform = data.GetGeoTransform()\n",
    "x_min = geo_transform[0]\n",
    "y_max = geo_transform[3]\n",
    "x_max = x_min + geo_transform[1] * data.RasterXSize\n",
    "y_min = y_max + geo_transform[5] * data.RasterYSize\n",
    "x_res = data.RasterXSize\n",
    "y_res = data.RasterYSize\n",
    "\n",
    "crs = data.GetSpatialRef()\n",
    "proj = data.GetProjection()\n",
    "\n",
    "pixel_width = geo_transform[1]\n",
    "\n",
    "output_cmap = os.path.join(labels_folder, 'tiles.tif')\n",
    "\n",
    "target_ds_cmap = gdal.GetDriverByName('GTiff').Create(output_cmap, x_res, y_res, 1, gdal.GDT_Byte)\n",
    "\n",
    "target_ds_cmap.SetGeoTransform(geo_transform)\n",
    "target_ds_cmap.SetSpatialRef(crs)\n",
    "target_ds_cmap.SetProjection(proj)\n",
    "band_cmap = target_ds_cmap.GetRasterBand(1)\n",
    "band_cmap.FlushCache()\n",
    "\n",
    "target_ds_cmap.GetRasterBand(1).WriteArray(tiles)\n",
    "target_ds_cmap = None\n"
   ]
  },
  {
   "cell_type": "code",
   "execution_count": null,
   "id": "79bccaaa",
   "metadata": {},
   "outputs": [],
   "source": []
  }
 ],
 "metadata": {
  "interpreter": {
   "hash": "6984327cd4a671f1c687c03fe0b5d8b7594868635f0d5dbeb7c4ac1a044793af"
  },
  "kernelspec": {
   "display_name": "Python 3 (ipykernel)",
   "language": "python",
   "name": "python3"
  },
  "language_info": {
   "codemirror_mode": {
    "name": "ipython",
    "version": 3
   },
   "file_extension": ".py",
   "mimetype": "text/x-python",
   "name": "python",
   "nbconvert_exporter": "python",
   "pygments_lexer": "ipython3",
   "version": "3.9.12"
  }
 },
 "nbformat": 4,
 "nbformat_minor": 5
}
