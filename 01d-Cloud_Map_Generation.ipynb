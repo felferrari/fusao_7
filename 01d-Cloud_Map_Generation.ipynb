{
 "cells": [
  {
   "cell_type": "code",
   "execution_count": 1,
   "id": "915dc46b",
   "metadata": {},
   "outputs": [],
   "source": [
    "%load_ext autoreload\n",
    "%autoreload 2"
   ]
  },
  {
   "cell_type": "code",
   "execution_count": 2,
   "id": "c9452d15",
   "metadata": {},
   "outputs": [],
   "source": [
    "from osgeo import gdal\n",
    "from osgeo import gdalconst\n",
    "import os\n",
    "from osgeo import ogr\n",
    "from osgeo import osr\n",
    "import fiona\n",
    "from ops.ops import load_json, load_opt_image\n",
    "from tqdm.notebook import tqdm_notebook\n",
    "from osgeo import gdal_array\n",
    "from skimage.morphology import disk, dilation, erosion\n",
    "import numpy as np\n",
    "from s2cloudless import get_s2_evalscript, S2PixelCloudDetector"
   ]
  },
  {
   "cell_type": "code",
   "execution_count": 3,
   "id": "82f4aaa7",
   "metadata": {},
   "outputs": [],
   "source": [
    "#image_folder = 'img/GEE-imgs'\n",
    "\n",
    "paths = load_json(os.path.join('conf', 'paths.json'))\n",
    "conf = load_json(os.path.join('conf', 'conf.json'))\n",
    "\n",
    "opt_path = os.path.join('img', 'opt')"
   ]
  },
  {
   "cell_type": "code",
   "execution_count": 4,
   "id": "44d489c1",
   "metadata": {},
   "outputs": [],
   "source": [
    "opt_2017 = np.concatenate([\n",
    "    load_opt_image(os.path.join(opt_path, '2017', 'PA_S2_2017_B1_B2_B3_crop.tif')),\n",
    "    load_opt_image(os.path.join(opt_path, '2017', 'PA_S2_2017_B4_B5_B6_crop.tif')),\n",
    "    load_opt_image(os.path.join(opt_path, '2017', 'PA_S2_2017_B7_B8_B8A_crop.tif')),\n",
    "    load_opt_image(os.path.join(opt_path, '2017', 'PA_S2_2017_B9_B10_B11_crop.tif')),\n",
    "    load_opt_image(os.path.join(opt_path, '2017', 'PA_S2_2017_B12_crop.tif'))\n",
    "], axis=-1)\n",
    "\n",
    "opt_2018 = np.concatenate([\n",
    "    load_opt_image(os.path.join(opt_path, '2018', 'COPERNICUS_S2_20180721_20180726_B1_B2_B3.tif')),\n",
    "    load_opt_image(os.path.join(opt_path, '2018', 'COPERNICUS_S2_20180721_20180726_B4_B5_B6.tif')),\n",
    "    load_opt_image(os.path.join(opt_path, '2018', 'COPERNICUS_S2_20180721_20180726_B7_B8_B8A.tif')),\n",
    "    load_opt_image(os.path.join(opt_path, '2018', 'COPERNICUS_S2_20180721_20180726_B9_B10_B11.tif')),\n",
    "    load_opt_image(os.path.join(opt_path, '2018', 'COPERNICUS_S2_20180721_20180726_B12.tif'))\n",
    "], axis=-1)\n",
    "\n",
    "opt_2019 = np.concatenate([\n",
    "    load_opt_image(os.path.join(opt_path, '2019', 'COPERNICUS_S2_20190721_20190726_B1_B2_B3.tif')),\n",
    "    load_opt_image(os.path.join(opt_path, '2019', 'COPERNICUS_S2_20190721_20190726_B4_B5_B6.tif')),\n",
    "    load_opt_image(os.path.join(opt_path, '2019', 'COPERNICUS_S2_20190721_20190726_B7_B8_B8A.tif')),\n",
    "    load_opt_image(os.path.join(opt_path, '2019', 'COPERNICUS_S2_20190721_20190726_B9_B10_B11.tif')),\n",
    "    load_opt_image(os.path.join(opt_path, '2019', 'COPERNICUS_S2_20190721_20190726_B12.tif'))\n",
    "], axis=-1)"
   ]
  },
  {
   "cell_type": "code",
   "execution_count": 5,
   "id": "e72a2131",
   "metadata": {},
   "outputs": [],
   "source": [
    "opt_imgs = [\n",
    "    opt_2017,\n",
    "    opt_2018,\n",
    "    opt_2019\n",
    "]"
   ]
  },
  {
   "cell_type": "code",
   "execution_count": 6,
   "id": "6888da16",
   "metadata": {},
   "outputs": [
    {
     "name": "stdout",
     "output_type": "stream",
     "text": [
      "(17730, 9203, 13)\n",
      "(17730, 9203)\n",
      "0 || 92\n",
      "(17730, 9203, 13)\n",
      "(17730, 9203)\n",
      "0 || 100\n",
      "(17730, 9203, 13)\n",
      "(17730, 9203)\n",
      "0 || 100\n"
     ]
    }
   ],
   "source": [
    "image_folder = os.path.join(paths['img'], 'opt')\n",
    "cmap_folder = os.path.join(paths['img'], 'cmaps')\n",
    "cloud_detector = S2PixelCloudDetector(threshold=0.4, average_over=4, dilation_size=2, all_bands=True)\n",
    "for img_i, opt_img in enumerate(opt_imgs):\n",
    "    opt_data = opt_img/10000\n",
    "    print(opt_data.shape)\n",
    "    \n",
    "    cm_map = cloud_detector.get_cloud_probability_maps(opt_data)\n",
    "    print(cm_map.shape)\n",
    "    cm_map = (np.rint(100*cm_map)).astype(np.uint8)\n",
    "\n",
    "\n",
    "    data = gdal.Open(os.path.join(opt_path, '2017', 'PA_S2_2017_B1_B2_B3_crop.tif'), gdalconst.GA_ReadOnly)\n",
    "    geo_transform = data.GetGeoTransform()\n",
    "    x_min = geo_transform[0]\n",
    "    y_max = geo_transform[3]\n",
    "    x_max = x_min + geo_transform[1] * data.RasterXSize\n",
    "    y_min = y_max + geo_transform[5] * data.RasterYSize\n",
    "    x_res = data.RasterXSize\n",
    "    y_res = data.RasterYSize\n",
    "\n",
    "    crs = data.GetSpatialRef()\n",
    "    proj = data.GetProjection()\n",
    "\n",
    "    pixel_width = geo_transform[1]\n",
    "\n",
    "    output_cmap = os.path.join(cmap_folder, f'cmap_{img_i+2017}.tif')\n",
    "\n",
    "    target_ds_cmap = gdal.GetDriverByName('GTiff').Create(output_cmap, x_res, y_res, 1, gdal.GDT_Byte)\n",
    "\n",
    "    target_ds_cmap.SetGeoTransform(geo_transform)\n",
    "    target_ds_cmap.SetSpatialRef(crs)\n",
    "    target_ds_cmap.SetProjection(proj)\n",
    "    band_cmap = target_ds_cmap.GetRasterBand(1)\n",
    "    band_cmap.FlushCache()\n",
    "\n",
    "    target_ds_cmap.GetRasterBand(1).WriteArray(cm_map)\n",
    "    target_ds_cmap = None\n",
    "\n",
    "    print(f'{cm_map.min()} || {cm_map.max()}')\n",
    "\n",
    "    \n"
   ]
  }
 ],
 "metadata": {
  "interpreter": {
   "hash": "6984327cd4a671f1c687c03fe0b5d8b7594868635f0d5dbeb7c4ac1a044793af"
  },
  "kernelspec": {
   "display_name": "Python 3 (ipykernel)",
   "language": "python",
   "name": "python3"
  },
  "language_info": {
   "codemirror_mode": {
    "name": "ipython",
    "version": 3
   },
   "file_extension": ".py",
   "mimetype": "text/x-python",
   "name": "python",
   "nbconvert_exporter": "python",
   "pygments_lexer": "ipython3",
   "version": "3.9.12"
  }
 },
 "nbformat": 4,
 "nbformat_minor": 5
}
