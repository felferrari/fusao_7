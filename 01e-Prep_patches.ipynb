{
 "cells": [
  {
   "cell_type": "code",
   "execution_count": 1,
   "metadata": {},
   "outputs": [],
   "source": [
    "%load_ext autoreload\n",
    "%autoreload 2\n",
    "%matplotlib inline "
   ]
  },
  {
   "cell_type": "markdown",
   "metadata": {},
   "source": [
    "# Importing"
   ]
  },
  {
   "cell_type": "code",
   "execution_count": 1,
   "metadata": {},
   "outputs": [],
   "source": [
    "from ops.ops import load_opt_image, load_SAR_image, load_json, filter_outliers, load_label_image, load_SAR_DN_image\n",
    "import os\n",
    "import numpy as np\n",
    "from skimage.util import view_as_windows\n",
    "from tqdm.notebook import tqdm_notebook\n",
    "from matplotlib import pyplot as plt"
   ]
  },
  {
   "cell_type": "markdown",
   "metadata": {},
   "source": [
    "# Config"
   ]
  },
  {
   "cell_type": "code",
   "execution_count": 2,
   "metadata": {},
   "outputs": [],
   "source": [
    "conf = load_json(os.path.join('conf', 'conf.json'))\n",
    "patch_size = conf['patch_size']\n",
    "min_perc = conf['min_perc']\n",
    "n_opt_layers = conf['n_opt_layers']\n",
    "n_sar_layers = conf['n_sar_layers']\n",
    "\n",
    "train_step = int((1-conf['patch_overlap'])*patch_size)\n",
    "min_perc = conf['min_perc']"
   ]
  },
  {
   "cell_type": "code",
   "execution_count": 3,
   "metadata": {},
   "outputs": [],
   "source": [
    "opt_path = os.path.join('img', 'opt')\n",
    "sar_path = os.path.join('img', 'sar')\n",
    "label_path = os.path.join('img', 'labels')\n",
    "cmap_path = os.path.join('img', 'cmaps')\n",
    "prep_path = os.path.join('img', 'prepared')"
   ]
  },
  {
   "cell_type": "code",
   "execution_count": 4,
   "metadata": {},
   "outputs": [],
   "source": [
    "opt_2017 = np.concatenate([\n",
    "    load_opt_image(os.path.join(opt_path, '2017', 'PA_S2_2017_B1_B2_B3_crop.tif')),\n",
    "    load_opt_image(os.path.join(opt_path, '2017', 'PA_S2_2017_B4_B5_B6_crop.tif')),\n",
    "    load_opt_image(os.path.join(opt_path, '2017', 'PA_S2_2017_B7_B8_B8A_crop.tif')),\n",
    "    load_opt_image(os.path.join(opt_path, '2017', 'PA_S2_2017_B9_B10_B11_crop.tif')),\n",
    "    load_opt_image(os.path.join(opt_path, '2017', 'PA_S2_2017_B12_crop.tif'))\n",
    "], axis=-1)\n",
    "\n",
    "opt_2018 = np.concatenate([\n",
    "    load_opt_image(os.path.join(opt_path, '2018', 'COPERNICUS_S2_20180721_20180726_B1_B2_B3.tif')),\n",
    "    load_opt_image(os.path.join(opt_path, '2018', 'COPERNICUS_S2_20180721_20180726_B4_B5_B6.tif')),\n",
    "    load_opt_image(os.path.join(opt_path, '2018', 'COPERNICUS_S2_20180721_20180726_B7_B8_B8A.tif')),\n",
    "    load_opt_image(os.path.join(opt_path, '2018', 'COPERNICUS_S2_20180721_20180726_B9_B10_B11.tif')),\n",
    "    load_opt_image(os.path.join(opt_path, '2018', 'COPERNICUS_S2_20180721_20180726_B12.tif'))\n",
    "], axis=-1)\n",
    "\n",
    "opt_2019 = np.concatenate([\n",
    "    load_opt_image(os.path.join(opt_path, '2019', 'COPERNICUS_S2_20190721_20190726_B1_B2_B3.tif')),\n",
    "    load_opt_image(os.path.join(opt_path, '2019', 'COPERNICUS_S2_20190721_20190726_B4_B5_B6.tif')),\n",
    "    load_opt_image(os.path.join(opt_path, '2019', 'COPERNICUS_S2_20190721_20190726_B7_B8_B8A.tif')),\n",
    "    load_opt_image(os.path.join(opt_path, '2019', 'COPERNICUS_S2_20190721_20190726_B9_B10_B11.tif')),\n",
    "    load_opt_image(os.path.join(opt_path, '2019', 'COPERNICUS_S2_20190721_20190726_B12.tif'))\n",
    "], axis=-1)"
   ]
  },
  {
   "cell_type": "code",
   "execution_count": null,
   "metadata": {},
   "outputs": [],
   "source": [
    "opt_2017 = filter_outliers(opt_2017)\n",
    "opt_2018 = filter_outliers(opt_2018)\n",
    "opt_2019 = filter_outliers(opt_2019)"
   ]
  },
  {
   "cell_type": "markdown",
   "metadata": {},
   "source": [
    "# Preparing data"
   ]
  },
  {
   "cell_type": "markdown",
   "metadata": {
    "tags": []
   },
   "source": [
    "## Generating statistics"
   ]
  },
  {
   "cell_type": "markdown",
   "metadata": {
    "jp-MarkdownHeadingCollapsed": true,
    "tags": []
   },
   "source": [
    "### Optical"
   ]
  },
  {
   "cell_type": "code",
   "execution_count": null,
   "metadata": {},
   "outputs": [],
   "source": [
    "opt_mean = []\n",
    "opt_std = []\n",
    "\n",
    "opt_mean.append(opt_2017.mean())\n",
    "opt_mean.append(opt_2018.mean())\n",
    "opt_mean.append(opt_2019.mean())\n",
    "\n",
    "opt_std.append(opt_2017.std())\n",
    "opt_std.append(opt_2018.std())\n",
    "opt_std.append(opt_2019.std())\n",
    "\n",
    "opt_mean = np.array(opt_mean).mean()\n",
    "opt_std = np.array(opt_std).mean()  "
   ]
  },
  {
   "cell_type": "code",
   "execution_count": null,
   "metadata": {},
   "outputs": [],
   "source": [
    "#opt_mean = 0\n",
    "#opt_std = 10000"
   ]
  },
  {
   "cell_type": "code",
   "execution_count": null,
   "metadata": {},
   "outputs": [
    {
     "name": "stdout",
     "output_type": "stream",
     "text": [
      "[1385.4854 1009.603 ]\n"
     ]
    }
   ],
   "source": [
    "statistics = np.array([\n",
    "    opt_mean,\n",
    "    opt_std\n",
    "])\n",
    "print(statistics)\n",
    "np.save(os.path.join(prep_path, 'statistics.npy'), statistics)"
   ]
  },
  {
   "cell_type": "markdown",
   "metadata": {},
   "source": [
    "# Generating data"
   ]
  },
  {
   "cell_type": "markdown",
   "metadata": {
    "tags": []
   },
   "source": [
    "## Optical"
   ]
  },
  {
   "cell_type": "code",
   "execution_count": null,
   "metadata": {},
   "outputs": [],
   "source": [
    "opt_2017 = (opt_2017 - opt_mean) / opt_std\n",
    "opt_2018 = (opt_2018 - opt_mean) / opt_std\n",
    "opt_2019 = (opt_2019 - opt_mean) / opt_std\n",
    "\n",
    "np.save(os.path.join(prep_path, f'opt_2017.npy'), opt_2017.astype(np.float16))\n",
    "np.save(os.path.join(prep_path, f'opt_2018.npy'), opt_2018.astype(np.float16))\n",
    "np.save(os.path.join(prep_path, f'opt_2019.npy'), opt_2019.astype(np.float16))"
   ]
  },
  {
   "cell_type": "markdown",
   "metadata": {
    "jp-MarkdownHeadingCollapsed": true,
    "tags": []
   },
   "source": [
    "## Labels, Cloud Maps and Previous Deforestation Maps"
   ]
  },
  {
   "cell_type": "code",
   "execution_count": null,
   "metadata": {},
   "outputs": [],
   "source": [
    "label_2018 = os.path.join(label_path, 'label_2018.tif')\n",
    "label_2019 = os.path.join(label_path, 'label_2019.tif')\n",
    "previous_2018 = os.path.join(label_path, 'previous_def_2018.tif')\n",
    "previous_2019 = os.path.join(label_path, 'previous_def_2019.tif')\n",
    "tiles = os.path.join(label_path, 'tiles.tif')\n",
    "cmap_2017 = os.path.join(cmap_path, 'cmap_2017.tif')\n",
    "cmap_2018 = os.path.join(cmap_path, 'cmap_2018.tif')\n",
    "cmap_2019 = os.path.join(cmap_path, 'cmap_2019.tif')\n",
    "\n",
    "label_2018 = load_label_image(label_2018)\n",
    "label_2019 = load_label_image(label_2019)\n",
    "\n",
    "tiles = load_label_image(tiles)\n",
    "\n",
    "previous_2018 = load_label_image(previous_2018)\n",
    "previous_2019 = load_label_image(previous_2019)\n",
    "\n",
    "cmap_2017 = load_label_image(cmap_2017)\n",
    "cmap_2018 = load_label_image(cmap_2018)\n",
    "cmap_2019 = load_label_image(cmap_2019)\n",
    "\n",
    "np.save(os.path.join(prep_path, 'label_2018.npy'), label_2018)\n",
    "np.save(os.path.join(prep_path, 'label_2019.npy'), label_2019)\n",
    "\n",
    "np.save(os.path.join(prep_path, 'previous_2018.npy'), previous_2018)\n",
    "np.save(os.path.join(prep_path, 'previous_2019.npy'), previous_2019)\n",
    "\n",
    "np.save(os.path.join(prep_path, f'cmap_2017.npy'), cmap_2017)\n",
    "np.save(os.path.join(prep_path, f'cmap_2018.npy'), cmap_2018)\n",
    "np.save(os.path.join(prep_path, f'cmap_2019.npy'), cmap_2019)"
   ]
  },
  {
   "cell_type": "markdown",
   "metadata": {
    "jp-MarkdownHeadingCollapsed": true,
    "tags": []
   },
   "source": [
    "## Generating patches"
   ]
  },
  {
   "cell_type": "code",
   "execution_count": null,
   "metadata": {},
   "outputs": [
    {
     "data": {
      "text/plain": [
       "<matplotlib.image.AxesImage at 0x169db2e4c40>"
      ]
     },
     "execution_count": 12,
     "metadata": {},
     "output_type": "execute_result"
    },
    {
     "data": {
      "image/png": "[encoded data removed]",
      "text/plain": [
       "<Figure size 432x288 with 1 Axes>"
      ]
     },
     "metadata": {
      "needs_background": "light"
     },
     "output_type": "display_data"
    }
   ],
   "source": [
    "plt.imshow(tiles)\n",
    "#plt.show()"
   ]
  },
  {
   "cell_type": "code",
   "execution_count": null,
   "metadata": {},
   "outputs": [
    {
     "name": "stdout",
     "output_type": "stream",
     "text": [
      "(7890, 128, 128)\n",
      "(7586, 128, 128)\n",
      "(4791, 128, 128)\n",
      "(2861, 128, 128)\n",
      "(4370, 128, 128)\n",
      "(2913, 128, 128)\n"
     ]
    }
   ],
   "source": [
    "shape = label_2018.shape[0:2]\n",
    "idx_matrix = np.arange(shape[0]*shape[1], dtype=np.uint32).reshape(shape)\n",
    "\n",
    "label_patches_2018 = view_as_windows(label_2018, (patch_size, patch_size), train_step).reshape((-1, patch_size, patch_size))\n",
    "label_patches_2019 = view_as_windows(label_2019, (patch_size, patch_size), train_step).reshape((-1, patch_size, patch_size))\n",
    "tiles_patches = view_as_windows(tiles, (patch_size, patch_size), train_step).reshape((-1, patch_size, patch_size))\n",
    "idx_patches = view_as_windows(idx_matrix, (patch_size, patch_size), train_step).reshape((-1, patch_size, patch_size))\n",
    "\n",
    "keep_patches_2018 = np.mean((label_patches_2018 == 1), axis=(1,2)) >= min_perc\n",
    "keep_patches_2019 = np.mean((label_patches_2019 == 1), axis=(1,2)) >= min_perc\n",
    "\n",
    "tiles_patches_2018 = tiles_patches[keep_patches_2018]\n",
    "tiles_patches_2019 = tiles_patches[keep_patches_2019]\n",
    "print(tiles_patches_2018.shape)\n",
    "print(tiles_patches_2019.shape)\n",
    "\n",
    "keep_patches_2018_train = np.all(tiles_patches_2018 == 0, axis=(1,2))\n",
    "keep_patches_2018_val = np.all(tiles_patches_2018 == 1, axis=(1,2))\n",
    "\n",
    "keep_patches_2019_train = np.all(tiles_patches_2019 == 0, axis=(1,2))\n",
    "keep_patches_2019_val = np.all(tiles_patches_2019 == 1, axis=(1,2))\n",
    "\n",
    "idx_patches_2018_train = idx_patches[keep_patches_2018][keep_patches_2018_train]\n",
    "idx_patches_2018_val = idx_patches[keep_patches_2018][keep_patches_2018_val]\n",
    "idx_patches_2019_train = idx_patches[keep_patches_2019][keep_patches_2019_train]\n",
    "idx_patches_2019_val = idx_patches[keep_patches_2019][keep_patches_2019_val]\n",
    "\n",
    "print(idx_patches_2018_train.shape)\n",
    "print(idx_patches_2018_val.shape)\n",
    "print(idx_patches_2019_train.shape)\n",
    "print(idx_patches_2019_val.shape)\n",
    "\n",
    "np.save(os.path.join(prep_path, 'patches_2018_train.npy'), idx_patches_2018_train)\n",
    "np.save(os.path.join(prep_path, 'patches_2018_val.npy'), idx_patches_2018_val)\n",
    "\n",
    "np.save(os.path.join(prep_path, 'patches_2019_train.npy'), idx_patches_2019_train)\n",
    "np.save(os.path.join(prep_path, 'patches_2019_val.npy'), idx_patches_2019_val)\n",
    "\n",
    "del idx_patches, label_patches_2018, label_patches_2019, idx_matrix, idx_patches_2018_train, idx_patches_2018_val, idx_patches_2019_train, idx_patches_2019_val"
   ]
  },
  {
   "cell_type": "code",
   "execution_count": null,
   "metadata": {},
   "outputs": [
    {
     "name": "stdout",
     "output_type": "stream",
     "text": [
      "(103006, 128, 128)\n",
      "(103310, 128, 128)\n",
      "(67315, 128, 128)\n",
      "(32386, 128, 128)\n",
      "(67736, 128, 128)\n",
      "(32334, 128, 128)\n"
     ]
    }
   ],
   "source": [
    "shape = label_2018.shape[0:2]\n",
    "idx_matrix = np.arange(shape[0]*shape[1], dtype=np.uint32).reshape(shape)\n",
    "\n",
    "label_patches_2018 = view_as_windows(label_2018, (patch_size, patch_size), train_step).reshape((-1, patch_size, patch_size))\n",
    "label_patches_2019 = view_as_windows(label_2019, (patch_size, patch_size), train_step).reshape((-1, patch_size, patch_size))\n",
    "tiles_patches = view_as_windows(tiles, (patch_size, patch_size), train_step).reshape((-1, patch_size, patch_size))\n",
    "idx_patches = view_as_windows(idx_matrix, (patch_size, patch_size), train_step).reshape((-1, patch_size, patch_size))\n",
    "\n",
    "keep_patches_2018 = np.mean((label_patches_2018 == 1), axis=(1,2)) < min_perc\n",
    "keep_patches_2019 = np.mean((label_patches_2019 == 1), axis=(1,2)) < min_perc\n",
    "\n",
    "tiles_patches_2018 = tiles_patches[keep_patches_2018]\n",
    "tiles_patches_2019 = tiles_patches[keep_patches_2019]\n",
    "print(tiles_patches_2018.shape)\n",
    "print(tiles_patches_2019.shape)\n",
    "\n",
    "keep_patches_2018_train = np.all(tiles_patches_2018 == 0, axis=(1,2))\n",
    "keep_patches_2018_val = np.all(tiles_patches_2018 == 1, axis=(1,2))\n",
    "\n",
    "keep_patches_2019_train = np.all(tiles_patches_2019 == 0, axis=(1,2))\n",
    "keep_patches_2019_val = np.all(tiles_patches_2019 == 1, axis=(1,2))\n",
    "\n",
    "idx_patches_2018_train = idx_patches[keep_patches_2018][keep_patches_2018_train]\n",
    "idx_patches_2018_val = idx_patches[keep_patches_2018][keep_patches_2018_val]\n",
    "idx_patches_2019_train = idx_patches[keep_patches_2019][keep_patches_2019_train]\n",
    "idx_patches_2019_val = idx_patches[keep_patches_2019][keep_patches_2019_val]\n",
    "\n",
    "print(idx_patches_2018_train.shape)\n",
    "print(idx_patches_2018_val.shape)\n",
    "print(idx_patches_2019_train.shape)\n",
    "print(idx_patches_2019_val.shape)\n",
    "\n",
    "np.save(os.path.join(prep_path, 'c_patches_2018_train.npy'), idx_patches_2018_train)\n",
    "np.save(os.path.join(prep_path, 'c_patches_2018_val.npy'), idx_patches_2018_val)\n",
    "\n",
    "np.save(os.path.join(prep_path, 'c_patches_2019_train.npy'), idx_patches_2019_train)\n",
    "np.save(os.path.join(prep_path, 'c_patches_2019_val.npy'), idx_patches_2019_val)\n",
    "\n",
    "del idx_patches, label_patches_2018, label_patches_2019, idx_matrix, idx_patches_2018_train, idx_patches_2018_val, idx_patches_2019_train, idx_patches_2019_val"
   ]
  },
  {
   "cell_type": "code",
   "execution_count": null,
   "metadata": {},
   "outputs": [],
   "source": []
  }
 ],
 "metadata": {
  "kernelspec": {
   "display_name": "Python 3.9.13 ('ferrari')",
   "language": "python",
   "name": "python3"
  },
  "language_info": {
   "codemirror_mode": {
    "name": "ipython",
    "version": 3
   },
   "file_extension": ".py",
   "mimetype": "text/x-python",
   "name": "python",
   "nbconvert_exporter": "python",
   "pygments_lexer": "ipython3",
   "version": "3.9.13"
  },
  "vscode": {
   "interpreter": {
    "hash": "2106ab02f788d5d4b3f4410d1309ddb03ef36d5b2076cc87e7c0cbc764c3dc2b"
   }
  }
 },
 "nbformat": 4,
 "nbformat_minor": 4
}
