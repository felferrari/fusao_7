{
 "cells": [
  {
   "cell_type": "code",
   "execution_count": 2,
   "id": "ccc4473a",
   "metadata": {},
   "outputs": [],
   "source": [
    "%load_ext autoreload\n",
    "%autoreload 2"
   ]
  },
  {
   "cell_type": "code",
   "execution_count": 1,
   "id": "c9452d15",
   "metadata": {},
   "outputs": [],
   "source": [
    "from osgeo import gdal\n",
    "from osgeo import gdalconst\n",
    "import os\n",
    "from osgeo import ogr\n",
    "from osgeo import osr\n",
    "import fiona\n",
    "from ops.ops import load_json\n",
    "from tqdm.notebook import tqdm_notebook\n",
    "from osgeo import gdal_array\n",
    "from skimage.morphology import disk, dilation, erosion\n",
    "import numpy as np"
   ]
  },
  {
   "cell_type": "code",
   "execution_count": 2,
   "id": "82f4aaa7",
   "metadata": {},
   "outputs": [],
   "source": [
    "#image_folder = 'img/GEE-imgs'\n",
    "\n",
    "paths = load_json(os.path.join('conf', 'paths.json'))\n",
    "shp = load_json(os.path.join('conf', 'shp.json'))\n",
    "conf = load_json(os.path.join('conf', 'conf.json'))\n",
    "\n",
    "img_source = conf['img_source']\n",
    "grid_save = os.path.join('shp', f\"tiles.shp\")\n"
   ]
  },
  {
   "cell_type": "code",
   "execution_count": 6,
   "id": "cf507c0f",
   "metadata": {},
   "outputs": [],
   "source": [
    "opt_path = os.path.join('D:', 'Ferrari', 'source-imgs', 'pa', 'opt')\n",
    "sar_path = os.path.join('D:', 'Ferrari', 'source-imgs', 'pa', 'sar')\n",
    "label_path = os.path.join('D:', 'Ferrari', 'source-imgs', 'pa', 'labels')\n",
    "cmap_path = os.path.join('D:', 'Ferrari', 'source-imgs', 'pa', 'cmaps')\n",
    "shp_path = os.path.join('D:', 'Ferrari', 'shp', 'pa')\n",
    "prep_path = os.path.join('img', 'prepared')"
   ]
  },
  {
   "cell_type": "code",
   "execution_count": 7,
   "id": "f6f15e40",
   "metadata": {},
   "outputs": [],
   "source": [
    "#image_folder = os.path.join('img', 'opt')\n",
    "#labels_folder = os.path.join('img', 'labels')\n",
    "\n",
    "image_p = os.path.join(opt_path, f'17000.tif')\n",
    "\n",
    "v_def_until_2007 = ogr.Open(os.path.join(shp_path, 'accumulated_deforestation_area.shp'))\n",
    "l_def_until_2007 = v_def_until_2007.GetLayer()\n",
    "\n",
    "v_def_yearly = ogr.Open(os.path.join(shp_path, 'yearly_deforestation_area.shp'))\n",
    "l_def_yearly = v_def_yearly.GetLayer()\n",
    "\n",
    "data = gdal.Open(image_p, gdalconst.GA_ReadOnly)\n",
    "\n",
    "geo_transform = data.GetGeoTransform()\n",
    "#x_min = geo_transform[0]\n",
    "#y_max = geo_transform[3]\n",
    "#x_max = x_min + geo_transform[1] * data.RasterXSize\n",
    "#y_min = y_max + geo_transform[5] * data.RasterYSize\n",
    "x_res = data.RasterXSize\n",
    "y_res = data.RasterYSize\n",
    "\n",
    "crs = data.GetSpatialRef()\n",
    "proj = data.GetProjection()\n",
    "\n",
    "pixel_width = geo_transform[1]"
   ]
  },
  {
   "cell_type": "markdown",
   "id": "ce92b5e6",
   "metadata": {},
   "source": [
    "## Map Gen"
   ]
  },
  {
   "cell_type": "code",
   "execution_count": 9,
   "id": "55725037",
   "metadata": {},
   "outputs": [
    {
     "name": "stdout",
     "output_type": "stream",
     "text": [
      "1.0\n",
      "0.9090909090909091\n",
      "0.8181818181818182\n",
      "0.7272727272727273\n",
      "0.6363636363636364\n",
      "0.5454545454545454\n",
      "0.45454545454545453\n",
      "0.36363636363636365\n",
      "0.2727272727272727\n",
      "0.18181818181818182\n",
      "0.09090909090909091\n"
     ]
    }
   ],
   "source": [
    "last_year = 2017\n",
    "ref_year = 2006\n",
    "\n",
    "output_2019 = os.path.join(label_path, f'previous_def_{last_year+1}.tif')\n",
    "\n",
    "target_ds_2019 = gdal.GetDriverByName('GTiff').Create(output_2019, x_res, y_res, 1, gdal.GDT_Float32)\n",
    "#target_ds.SetGeoTransform((x_min, geo_transform[1], 0, y_min, 0, geo_transform[5]))\n",
    "target_ds_2019.SetGeoTransform(geo_transform)\n",
    "target_ds_2019.SetSpatialRef(crs)\n",
    "target_ds_2019.SetProjection(proj)\n",
    "band_2019 = target_ds_2019.GetRasterBand(1)\n",
    "#NoData_value = 0\n",
    "#band.SetNoDataValue(NoData_value)\n",
    "band_2019.FlushCache()\n",
    "\n",
    "\n",
    "for year in range(last_year, 2007, -1):\n",
    "    where = f'\"year\"={year}'\n",
    "    l_def_yearly.SetAttributeFilter(where)\n",
    "    v = (year - ref_year)/(last_year - ref_year)\n",
    "    print(v)\n",
    "    gdal.RasterizeLayer(target_ds_2019, [1], l_def_yearly, burn_values=[v])\n",
    "\n",
    "year = 2007\n",
    "v = (year - ref_year)/(last_year - ref_year)\n",
    "print(v)\n",
    "gdal.RasterizeLayer(target_ds_2019, [1], l_def_until_2007, burn_values=[v])\n",
    "\n",
    "target_ds_2019 = None"
   ]
  },
  {
   "cell_type": "code",
   "execution_count": null,
   "id": "44c0c4ce",
   "metadata": {},
   "outputs": [],
   "source": []
  }
 ],
 "metadata": {
  "kernelspec": {
   "display_name": "Python 3.9.13 ('ferrari')",
   "language": "python",
   "name": "python3"
  },
  "language_info": {
   "codemirror_mode": {
    "name": "ipython",
    "version": 3
   },
   "file_extension": ".py",
   "mimetype": "text/x-python",
   "name": "python",
   "nbconvert_exporter": "python",
   "pygments_lexer": "ipython3",
   "version": "3.9.13"
  },
  "vscode": {
   "interpreter": {
    "hash": "a3da6209eb93a435c50492ad88baf43a9bee80bf33d3fb162aec8b624745a189"
   }
  }
 },
 "nbformat": 4,
 "nbformat_minor": 5
}
