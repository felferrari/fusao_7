{
 "cells": [
  {
   "cell_type": "code",
   "execution_count": 1,
   "id": "b9aaeef7",
   "metadata": {},
   "outputs": [],
   "source": [
    "import fiona\n",
    "import os\n",
    "from ops.ops import load_json, create_exps_paths, load_exp\n",
    "from tqdm.notebook import tqdm_notebook\n",
    "from osgeo import gdal\n",
    "from osgeo import gdalconst\n",
    "import numpy as np\n",
    "from tensorflow.keras.utils import to_categorical\n",
    "from skimage.morphology import area_opening\n"
   ]
  },
  {
   "cell_type": "code",
   "execution_count": 2,
   "id": "fdb26936",
   "metadata": {},
   "outputs": [],
   "source": [
    "conf = load_json(os.path.join('conf', 'conf.json'))\n",
    "img_source = conf['img_source']\n",
    "batch_size = conf['batch_size']\n",
    "learning_rate = conf['learning_rate']\n",
    "n_train_models = conf['n_train_models']\n",
    "patch_size = conf['patch_size']\n",
    "n_classes = conf['n_classes']\n",
    "n_opt_layers = conf['n_opt_layers']\n",
    "n_sar_layers = conf['n_sar_layers']\n",
    "class_weights = conf['class_weights']\n",
    "test_crop = conf['test_crop']\n",
    "n_imgs = conf['n_imgs']\n",
    "\n",
    "exp_name = 'rs_sm_opt_pm_nc_3'\n",
    "exp_path = os.path.join('D:', 'Ferrari', 'exps_7', exp_name)\n",
    "\n",
    "models_path = os.path.join(exp_path, 'models')\n",
    "logs_path = os.path.join(exp_path, 'logs')\n",
    "pred_path = os.path.join(exp_path, 'predicted')\n",
    "visual_path = os.path.join(exp_path, 'visual')\n",
    "\n",
    "\n",
    "prep_path = os.path.join('img', 'prepared')\n",
    "\n",
    "label_path = os.path.join('D:', 'Ferrari', 'source-imgs', 'pa', 'labels')"
   ]
  },
  {
   "cell_type": "markdown",
   "id": "b732bc7d",
   "metadata": {},
   "source": [
    "## Create Geotiff Predictions Probabilities"
   ]
  },
  {
   "cell_type": "code",
   "execution_count": 3,
   "id": "b50c3147",
   "metadata": {},
   "outputs": [
    {
     "ename": "FileNotFoundError",
     "evalue": "[Errno 2] No such file or directory: 'D:Ferrari\\\\exps_7\\\\rs_sm_opt_pm_nc_3\\\\predicted\\\\pred_1.npy'",
     "output_type": "error",
     "traceback": [
      "\u001b[1;31m---------------------------------------------------------------------------\u001b[0m",
      "\u001b[1;31mFileNotFoundError\u001b[0m                         Traceback (most recent call last)",
      "\u001b[1;32mc:\\Users\\felferrari\\Documents\\projetos\\fusao_7\\06_Analysis.ipynb Célula: 4\u001b[0m in \u001b[0;36m<cell line: 1>\u001b[1;34m()\u001b[0m\n\u001b[0;32m      <a href='vscode-notebook-cell:/c%3A/Users/felferrari/Documents/projetos/fusao_7/06_Analysis.ipynb#W3sZmlsZQ%3D%3D?line=0'>1</a>\u001b[0m \u001b[39mfor\u001b[39;00m test_image \u001b[39min\u001b[39;00m \u001b[39mrange\u001b[39m(n_imgs):\n\u001b[1;32m----> <a href='vscode-notebook-cell:/c%3A/Users/felferrari/Documents/projetos/fusao_7/06_Analysis.ipynb#W3sZmlsZQ%3D%3D?line=1'>2</a>\u001b[0m     pred \u001b[39m=\u001b[39m np\u001b[39m.\u001b[39;49mload(os\u001b[39m.\u001b[39;49mpath\u001b[39m.\u001b[39;49mjoin(pred_path, \u001b[39mf\u001b[39;49m\u001b[39m'\u001b[39;49m\u001b[39mpred_\u001b[39;49m\u001b[39m{\u001b[39;49;00mtest_image\u001b[39m}\u001b[39;49;00m\u001b[39m.npy\u001b[39;49m\u001b[39m'\u001b[39;49m))\n\u001b[0;32m      <a href='vscode-notebook-cell:/c%3A/Users/felferrari/Documents/projetos/fusao_7/06_Analysis.ipynb#W3sZmlsZQ%3D%3D?line=2'>3</a>\u001b[0m     label \u001b[39m=\u001b[39m np\u001b[39m.\u001b[39mload(os\u001b[39m.\u001b[39mpath\u001b[39m.\u001b[39mjoin(prep_path, \u001b[39mf\u001b[39m\u001b[39m'\u001b[39m\u001b[39mlabel_2019.npy\u001b[39m\u001b[39m'\u001b[39m))\n\u001b[0;32m      <a href='vscode-notebook-cell:/c%3A/Users/felferrari/Documents/projetos/fusao_7/06_Analysis.ipynb#W3sZmlsZQ%3D%3D?line=3'>4</a>\u001b[0m     pred_p \u001b[39m=\u001b[39m pred[:,:,\u001b[39m1\u001b[39m:\u001b[39m2\u001b[39m]\n",
      "File \u001b[1;32mc:\\ProgramData\\Anaconda3\\envs\\ferrari\\lib\\site-packages\\numpy\\lib\\npyio.py:390\u001b[0m, in \u001b[0;36mload\u001b[1;34m(file, mmap_mode, allow_pickle, fix_imports, encoding)\u001b[0m\n\u001b[0;32m    388\u001b[0m     own_fid \u001b[39m=\u001b[39m \u001b[39mFalse\u001b[39;00m\n\u001b[0;32m    389\u001b[0m \u001b[39melse\u001b[39;00m:\n\u001b[1;32m--> 390\u001b[0m     fid \u001b[39m=\u001b[39m stack\u001b[39m.\u001b[39menter_context(\u001b[39mopen\u001b[39;49m(os_fspath(file), \u001b[39m\"\u001b[39;49m\u001b[39mrb\u001b[39;49m\u001b[39m\"\u001b[39;49m))\n\u001b[0;32m    391\u001b[0m     own_fid \u001b[39m=\u001b[39m \u001b[39mTrue\u001b[39;00m\n\u001b[0;32m    393\u001b[0m \u001b[39m# Code to distinguish from NumPy binary files and pickles.\u001b[39;00m\n",
      "\u001b[1;31mFileNotFoundError\u001b[0m: [Errno 2] No such file or directory: 'D:Ferrari\\\\exps_7\\\\rs_sm_opt_pm_nc_3\\\\predicted\\\\pred_1.npy'"
     ]
    }
   ],
   "source": [
    "for test_image in range(n_imgs):\n",
    "    pred = np.load(os.path.join(pred_path, f'pred_{test_image}.npy'))\n",
    "    label = np.load(os.path.join(prep_path, f'label_2019.npy'))\n",
    "    pred_p = pred[:,:,1:2]\n",
    "    pred_p[label==2] = 0\n",
    "    in_data = gdal.Open( os.path.join(label_path, f'label_2019.tif'), gdalconst.GA_ReadOnly)\n",
    "    geo_transform = in_data.GetGeoTransform()\n",
    "    x_min = geo_transform[0]\n",
    "    y_max = geo_transform[3]\n",
    "    x_max = x_min + geo_transform[1] * in_data.RasterXSize\n",
    "    y_min = y_max + geo_transform[5] * in_data.RasterYSize\n",
    "    x_res = in_data.RasterXSize\n",
    "    y_res = in_data.RasterYSize\n",
    "    crs = in_data.GetSpatialRef()\n",
    "    proj = in_data.GetProjection()\n",
    "\n",
    "    output = os.path.join(visual_path, f'pred_prob_{exp_name}_{test_image}.tif')\n",
    "    target_ds = gdal.GetDriverByName('GTiff').Create(output, x_res, y_res, 1, gdal.GDT_Float32)\n",
    "    \n",
    "    target_ds.SetGeoTransform(geo_transform)\n",
    "    target_ds.SetSpatialRef(crs)\n",
    "    target_ds.SetProjection(proj)\n",
    "    \n",
    "    band = target_ds.GetRasterBand(1)\n",
    "    band.WriteArray(pred_p[:,:,0], 0, 0)\n",
    "    \n",
    "    band.FlushCache()\n",
    "    target_ds = None"
   ]
  },
  {
   "cell_type": "markdown",
   "id": "2dbd1e85",
   "metadata": {},
   "source": [
    "## Create Geotiff Binary Predictions"
   ]
  },
  {
   "cell_type": "code",
   "execution_count": 4,
   "id": "264ff178",
   "metadata": {},
   "outputs": [
    {
     "ename": "FileNotFoundError",
     "evalue": "[Errno 2] No such file or directory: 'D:Ferrari\\\\exps_7\\\\rs_sm_opt_pm_nc_3\\\\predicted\\\\pred_1.npy'",
     "output_type": "error",
     "traceback": [
      "\u001b[1;31m---------------------------------------------------------------------------\u001b[0m",
      "\u001b[1;31mFileNotFoundError\u001b[0m                         Traceback (most recent call last)",
      "\u001b[1;32mc:\\Users\\felferrari\\Documents\\projetos\\fusao_7\\06_Analysis.ipynb Célula: 6\u001b[0m in \u001b[0;36m<cell line: 1>\u001b[1;34m()\u001b[0m\n\u001b[0;32m      <a href='vscode-notebook-cell:/c%3A/Users/felferrari/Documents/projetos/fusao_7/06_Analysis.ipynb#W5sZmlsZQ%3D%3D?line=0'>1</a>\u001b[0m \u001b[39mfor\u001b[39;00m test_image \u001b[39min\u001b[39;00m \u001b[39mrange\u001b[39m(n_imgs):\n\u001b[1;32m----> <a href='vscode-notebook-cell:/c%3A/Users/felferrari/Documents/projetos/fusao_7/06_Analysis.ipynb#W5sZmlsZQ%3D%3D?line=1'>2</a>\u001b[0m     pred \u001b[39m=\u001b[39m np\u001b[39m.\u001b[39;49mload(os\u001b[39m.\u001b[39;49mpath\u001b[39m.\u001b[39;49mjoin(pred_path, \u001b[39mf\u001b[39;49m\u001b[39m'\u001b[39;49m\u001b[39mpred_\u001b[39;49m\u001b[39m{\u001b[39;49;00mtest_image\u001b[39m}\u001b[39;49;00m\u001b[39m.npy\u001b[39;49m\u001b[39m'\u001b[39;49m))\n\u001b[0;32m      <a href='vscode-notebook-cell:/c%3A/Users/felferrari/Documents/projetos/fusao_7/06_Analysis.ipynb#W5sZmlsZQ%3D%3D?line=2'>3</a>\u001b[0m     label \u001b[39m=\u001b[39m np\u001b[39m.\u001b[39mload(os\u001b[39m.\u001b[39mpath\u001b[39m.\u001b[39mjoin(prep_path, \u001b[39mf\u001b[39m\u001b[39m'\u001b[39m\u001b[39mlabel_2019.npy\u001b[39m\u001b[39m'\u001b[39m))\n\u001b[0;32m      <a href='vscode-notebook-cell:/c%3A/Users/felferrari/Documents/projetos/fusao_7/06_Analysis.ipynb#W5sZmlsZQ%3D%3D?line=3'>4</a>\u001b[0m     pred_p \u001b[39m=\u001b[39m (pred[:,:,\u001b[39m1\u001b[39m:\u001b[39m2\u001b[39m]\u001b[39m>\u001b[39m\u001b[39m0.5\u001b[39m)\u001b[39m.\u001b[39mastype(np\u001b[39m.\u001b[39muint8)\n",
      "File \u001b[1;32mc:\\ProgramData\\Anaconda3\\envs\\ferrari\\lib\\site-packages\\numpy\\lib\\npyio.py:390\u001b[0m, in \u001b[0;36mload\u001b[1;34m(file, mmap_mode, allow_pickle, fix_imports, encoding)\u001b[0m\n\u001b[0;32m    388\u001b[0m     own_fid \u001b[39m=\u001b[39m \u001b[39mFalse\u001b[39;00m\n\u001b[0;32m    389\u001b[0m \u001b[39melse\u001b[39;00m:\n\u001b[1;32m--> 390\u001b[0m     fid \u001b[39m=\u001b[39m stack\u001b[39m.\u001b[39menter_context(\u001b[39mopen\u001b[39;49m(os_fspath(file), \u001b[39m\"\u001b[39;49m\u001b[39mrb\u001b[39;49m\u001b[39m\"\u001b[39;49m))\n\u001b[0;32m    391\u001b[0m     own_fid \u001b[39m=\u001b[39m \u001b[39mTrue\u001b[39;00m\n\u001b[0;32m    393\u001b[0m \u001b[39m# Code to distinguish from NumPy binary files and pickles.\u001b[39;00m\n",
      "\u001b[1;31mFileNotFoundError\u001b[0m: [Errno 2] No such file or directory: 'D:Ferrari\\\\exps_7\\\\rs_sm_opt_pm_nc_3\\\\predicted\\\\pred_1.npy'"
     ]
    }
   ],
   "source": [
    "for test_image in range(n_imgs):\n",
    "    pred = np.load(os.path.join(pred_path, f'pred_{test_image}.npy'))\n",
    "    label = np.load(os.path.join(prep_path, f'label_2019.npy'))\n",
    "    pred_p = (pred[:,:,1:2]>0.5).astype(np.uint8)\n",
    "    pred_p[label==2] = 0\n",
    "    pred_p = area_opening(pred_p.squeeze(), 625)\n",
    "\n",
    "    in_data =  gdal.Open( os.path.join(label_path, f'label_2019.tif'), gdalconst.GA_ReadOnly)\n",
    "    geo_transform = in_data.GetGeoTransform()\n",
    "    x_min = geo_transform[0]\n",
    "    y_max = geo_transform[3]\n",
    "    x_max = x_min + geo_transform[1] * in_data.RasterXSize\n",
    "    y_min = y_max + geo_transform[5] * in_data.RasterYSize\n",
    "    x_res = in_data.RasterXSize\n",
    "    y_res = in_data.RasterYSize\n",
    "    crs = in_data.GetSpatialRef()\n",
    "    proj = in_data.GetProjection()\n",
    "\n",
    "    output = os.path.join(visual_path, f'pred_bin_{exp_name}_{test_image}.tif')\n",
    "    target_ds = gdal.GetDriverByName('GTiff').Create(output, x_res, y_res, 1, gdal.GDT_Byte)\n",
    "    \n",
    "    target_ds.SetGeoTransform(geo_transform)\n",
    "    target_ds.SetSpatialRef(crs)\n",
    "    target_ds.SetProjection(proj)\n",
    "    \n",
    "    band = target_ds.GetRasterBand(1)\n",
    "    band.WriteArray(pred_p, 0, 0)\n",
    "    \n",
    "    band.FlushCache()\n",
    "    target_ds = None"
   ]
  },
  {
   "cell_type": "code",
   "execution_count": null,
   "id": "057bcf1b",
   "metadata": {},
   "outputs": [],
   "source": []
  }
 ],
 "metadata": {
  "kernelspec": {
   "display_name": "Python 3.9.13 ('ferrari')",
   "language": "python",
   "name": "python3"
  },
  "language_info": {
   "codemirror_mode": {
    "name": "ipython",
    "version": 3
   },
   "file_extension": ".py",
   "mimetype": "text/x-python",
   "name": "python",
   "nbconvert_exporter": "python",
   "pygments_lexer": "ipython3",
   "version": "3.9.13"
  },
  "vscode": {
   "interpreter": {
    "hash": "a3da6209eb93a435c50492ad88baf43a9bee80bf33d3fb162aec8b624745a189"
   }
  }
 },
 "nbformat": 4,
 "nbformat_minor": 5
}
