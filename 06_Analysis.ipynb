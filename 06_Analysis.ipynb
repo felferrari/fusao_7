{
 "cells": [
  {
   "cell_type": "code",
   "execution_count": 12,
   "id": "b9aaeef7",
   "metadata": {},
   "outputs": [],
   "source": [
    "import fiona\n",
    "import os\n",
    "from ops.ops import load_json, create_exps_paths, load_exp\n",
    "from tqdm.notebook import tqdm_notebook\n",
    "from osgeo import gdal\n",
    "from osgeo import gdalconst\n",
    "import numpy as np\n",
    "from tensorflow.keras.utils import to_categorical\n",
    "from skimage.morphology import area_opening\n"
   ]
  },
  {
   "cell_type": "code",
   "execution_count": 13,
   "id": "fdb26936",
   "metadata": {},
   "outputs": [],
   "source": [
    "conf = load_json(os.path.join('conf', 'conf.json'))\n",
    "img_source = conf['img_source']\n",
    "batch_size = conf['batch_size']\n",
    "learning_rate = conf['learning_rate']\n",
    "n_train_models = conf['n_train_models']\n",
    "patch_size = conf['patch_size']\n",
    "n_classes = conf['n_classes']\n",
    "n_opt_layers = conf['n_opt_layers']\n",
    "n_sar_layers = conf['n_sar_layers']\n",
    "class_weights = conf['class_weights']\n",
    "test_crop = conf['test_crop']\n",
    "n_imgs = conf['n_imgs']\n",
    "\n",
    "#exp_name = 'sm_opt_pm'\n",
    "exp_name = 'rs_sm_opt_pm_nc_newstrategy'\n",
    "\n",
    "exp_path = os.path.join('exps', exp_name)\n",
    "models_path = os.path.join(exp_path, 'models')\n",
    "logs_path = os.path.join(exp_path, 'logs')\n",
    "pred_path = os.path.join(exp_path, 'predicted')\n",
    "visual_path = os.path.join(exp_path, 'visual')\n",
    "\n",
    "\n",
    "prep_path = os.path.join('img', 'prepared')"
   ]
  },
  {
   "cell_type": "markdown",
   "id": "b732bc7d",
   "metadata": {},
   "source": [
    "## Create Geotiff Predictions Probabilities"
   ]
  },
  {
   "cell_type": "code",
   "execution_count": 14,
   "id": "b50c3147",
   "metadata": {},
   "outputs": [
    {
     "ename": "FileNotFoundError",
     "evalue": "[Errno 2] No such file or directory: 'exps\\\\rs_sm_opt_pm_nc_newstrategy\\\\predicted\\\\pred_1.npy'",
     "output_type": "error",
     "traceback": [
      "\u001b[1;31m---------------------------------------------------------------------------\u001b[0m",
      "\u001b[1;31mFileNotFoundError\u001b[0m                         Traceback (most recent call last)",
      "\u001b[1;32mc:\\Users\\felferrari\\Documents\\projetos\\fusao\\fusao_6\\06_Analysis.ipynb Célula: 4\u001b[0m in \u001b[0;36m<cell line: 1>\u001b[1;34m()\u001b[0m\n\u001b[0;32m      <a href='vscode-notebook-cell:/c%3A/Users/felferrari/Documents/projetos/fusao/fusao_6/06_Analysis.ipynb#W3sZmlsZQ%3D%3D?line=0'>1</a>\u001b[0m \u001b[39mfor\u001b[39;00m test_image \u001b[39min\u001b[39;00m \u001b[39mrange\u001b[39m(n_imgs):\n\u001b[1;32m----> <a href='vscode-notebook-cell:/c%3A/Users/felferrari/Documents/projetos/fusao/fusao_6/06_Analysis.ipynb#W3sZmlsZQ%3D%3D?line=1'>2</a>\u001b[0m     pred \u001b[39m=\u001b[39m np\u001b[39m.\u001b[39;49mload(os\u001b[39m.\u001b[39;49mpath\u001b[39m.\u001b[39;49mjoin(pred_path, \u001b[39mf\u001b[39;49m\u001b[39m'\u001b[39;49m\u001b[39mpred_\u001b[39;49m\u001b[39m{\u001b[39;49;00mtest_image\u001b[39m}\u001b[39;49;00m\u001b[39m.npy\u001b[39;49m\u001b[39m'\u001b[39;49m))\n\u001b[0;32m      <a href='vscode-notebook-cell:/c%3A/Users/felferrari/Documents/projetos/fusao/fusao_6/06_Analysis.ipynb#W3sZmlsZQ%3D%3D?line=2'>3</a>\u001b[0m     label \u001b[39m=\u001b[39m np\u001b[39m.\u001b[39mload(os\u001b[39m.\u001b[39mpath\u001b[39m.\u001b[39mjoin(prep_path, \u001b[39mf\u001b[39m\u001b[39m'\u001b[39m\u001b[39mlabel_2019.npy\u001b[39m\u001b[39m'\u001b[39m))\n\u001b[0;32m      <a href='vscode-notebook-cell:/c%3A/Users/felferrari/Documents/projetos/fusao/fusao_6/06_Analysis.ipynb#W3sZmlsZQ%3D%3D?line=3'>4</a>\u001b[0m     pred_p \u001b[39m=\u001b[39m pred[:,:,\u001b[39m1\u001b[39m:\u001b[39m2\u001b[39m]\n",
      "File \u001b[1;32mc:\\Users\\felferrari\\.conda\\envs\\ferrari\\lib\\site-packages\\numpy\\lib\\npyio.py:407\u001b[0m, in \u001b[0;36mload\u001b[1;34m(file, mmap_mode, allow_pickle, fix_imports, encoding)\u001b[0m\n\u001b[0;32m    405\u001b[0m     own_fid \u001b[39m=\u001b[39m \u001b[39mFalse\u001b[39;00m\n\u001b[0;32m    406\u001b[0m \u001b[39melse\u001b[39;00m:\n\u001b[1;32m--> 407\u001b[0m     fid \u001b[39m=\u001b[39m stack\u001b[39m.\u001b[39menter_context(\u001b[39mopen\u001b[39;49m(os_fspath(file), \u001b[39m\"\u001b[39;49m\u001b[39mrb\u001b[39;49m\u001b[39m\"\u001b[39;49m))\n\u001b[0;32m    408\u001b[0m     own_fid \u001b[39m=\u001b[39m \u001b[39mTrue\u001b[39;00m\n\u001b[0;32m    410\u001b[0m \u001b[39m# Code to distinguish from NumPy binary files and pickles.\u001b[39;00m\n",
      "\u001b[1;31mFileNotFoundError\u001b[0m: [Errno 2] No such file or directory: 'exps\\\\rs_sm_opt_pm_nc_newstrategy\\\\predicted\\\\pred_1.npy'"
     ]
    }
   ],
   "source": [
    "for test_image in range(n_imgs):\n",
    "    pred = np.load(os.path.join(pred_path, f'pred_{test_image}.npy'))\n",
    "    label = np.load(os.path.join(prep_path, f'label_2019.npy'))\n",
    "    pred_p = pred[:,:,1:2]\n",
    "    pred_p[label==2] = 0\n",
    "    in_data = gdal.Open( os.path.join('img', 'labels', f'label_2019.tif'), gdalconst.GA_ReadOnly)\n",
    "    geo_transform = in_data.GetGeoTransform()\n",
    "    x_min = geo_transform[0]\n",
    "    y_max = geo_transform[3]\n",
    "    x_max = x_min + geo_transform[1] * in_data.RasterXSize\n",
    "    y_min = y_max + geo_transform[5] * in_data.RasterYSize\n",
    "    x_res = in_data.RasterXSize\n",
    "    y_res = in_data.RasterYSize\n",
    "    crs = in_data.GetSpatialRef()\n",
    "    proj = in_data.GetProjection()\n",
    "\n",
    "    output = os.path.join(visual_path, f'pred_prob_{exp_name}_{test_image}.tif')\n",
    "    target_ds = gdal.GetDriverByName('GTiff').Create(output, x_res, y_res, 1, gdal.GDT_Float32)\n",
    "    \n",
    "    target_ds.SetGeoTransform(geo_transform)\n",
    "    target_ds.SetSpatialRef(crs)\n",
    "    target_ds.SetProjection(proj)\n",
    "    \n",
    "    band = target_ds.GetRasterBand(1)\n",
    "    band.WriteArray(pred_p[:,:,0], 0, 0)\n",
    "    \n",
    "    band.FlushCache()\n",
    "    target_ds = None"
   ]
  },
  {
   "cell_type": "markdown",
   "id": "2dbd1e85",
   "metadata": {},
   "source": [
    "## Create Geotiff Cloud Predictions"
   ]
  },
  {
   "cell_type": "code",
   "execution_count": 11,
   "id": "264ff178",
   "metadata": {},
   "outputs": [
    {
     "ename": "FileNotFoundError",
     "evalue": "[Errno 2] No such file or directory: 'exps\\\\rs_sm_opt_pm_nc_comp\\\\predicted\\\\pred_1.npy'",
     "output_type": "error",
     "traceback": [
      "\u001b[1;31m---------------------------------------------------------------------------\u001b[0m",
      "\u001b[1;31mFileNotFoundError\u001b[0m                         Traceback (most recent call last)",
      "\u001b[1;32mc:\\Users\\felferrari\\Documents\\projetos\\fusao\\fusao_6\\06_Analysis.ipynb Célula: 6\u001b[0m in \u001b[0;36m<cell line: 1>\u001b[1;34m()\u001b[0m\n\u001b[0;32m      <a href='vscode-notebook-cell:/c%3A/Users/felferrari/Documents/projetos/fusao/fusao_6/06_Analysis.ipynb#W5sZmlsZQ%3D%3D?line=0'>1</a>\u001b[0m \u001b[39mfor\u001b[39;00m test_image \u001b[39min\u001b[39;00m \u001b[39mrange\u001b[39m(n_imgs):\n\u001b[1;32m----> <a href='vscode-notebook-cell:/c%3A/Users/felferrari/Documents/projetos/fusao/fusao_6/06_Analysis.ipynb#W5sZmlsZQ%3D%3D?line=1'>2</a>\u001b[0m     pred \u001b[39m=\u001b[39m np\u001b[39m.\u001b[39;49mload(os\u001b[39m.\u001b[39;49mpath\u001b[39m.\u001b[39;49mjoin(pred_path, \u001b[39mf\u001b[39;49m\u001b[39m'\u001b[39;49m\u001b[39mpred_\u001b[39;49m\u001b[39m{\u001b[39;49;00mtest_image\u001b[39m}\u001b[39;49;00m\u001b[39m.npy\u001b[39;49m\u001b[39m'\u001b[39;49m))\n\u001b[0;32m      <a href='vscode-notebook-cell:/c%3A/Users/felferrari/Documents/projetos/fusao/fusao_6/06_Analysis.ipynb#W5sZmlsZQ%3D%3D?line=2'>3</a>\u001b[0m     label \u001b[39m=\u001b[39m np\u001b[39m.\u001b[39mload(os\u001b[39m.\u001b[39mpath\u001b[39m.\u001b[39mjoin(prep_path, \u001b[39mf\u001b[39m\u001b[39m'\u001b[39m\u001b[39mlabel_2019.npy\u001b[39m\u001b[39m'\u001b[39m))\n\u001b[0;32m      <a href='vscode-notebook-cell:/c%3A/Users/felferrari/Documents/projetos/fusao/fusao_6/06_Analysis.ipynb#W5sZmlsZQ%3D%3D?line=3'>4</a>\u001b[0m     pred_p \u001b[39m=\u001b[39m (pred[:,:,\u001b[39m1\u001b[39m:\u001b[39m2\u001b[39m]\u001b[39m>\u001b[39m\u001b[39m0.5\u001b[39m)\u001b[39m.\u001b[39mastype(np\u001b[39m.\u001b[39muint8)\n",
      "File \u001b[1;32mc:\\Users\\felferrari\\.conda\\envs\\ferrari\\lib\\site-packages\\numpy\\lib\\npyio.py:407\u001b[0m, in \u001b[0;36mload\u001b[1;34m(file, mmap_mode, allow_pickle, fix_imports, encoding)\u001b[0m\n\u001b[0;32m    405\u001b[0m     own_fid \u001b[39m=\u001b[39m \u001b[39mFalse\u001b[39;00m\n\u001b[0;32m    406\u001b[0m \u001b[39melse\u001b[39;00m:\n\u001b[1;32m--> 407\u001b[0m     fid \u001b[39m=\u001b[39m stack\u001b[39m.\u001b[39menter_context(\u001b[39mopen\u001b[39;49m(os_fspath(file), \u001b[39m\"\u001b[39;49m\u001b[39mrb\u001b[39;49m\u001b[39m\"\u001b[39;49m))\n\u001b[0;32m    408\u001b[0m     own_fid \u001b[39m=\u001b[39m \u001b[39mTrue\u001b[39;00m\n\u001b[0;32m    410\u001b[0m \u001b[39m# Code to distinguish from NumPy binary files and pickles.\u001b[39;00m\n",
      "\u001b[1;31mFileNotFoundError\u001b[0m: [Errno 2] No such file or directory: 'exps\\\\rs_sm_opt_pm_nc_comp\\\\predicted\\\\pred_1.npy'"
     ]
    }
   ],
   "source": [
    "for test_image in range(n_imgs):\n",
    "    pred = np.load(os.path.join(pred_path, f'pred_{test_image}.npy'))\n",
    "    label = np.load(os.path.join(prep_path, f'label_2019.npy'))\n",
    "    pred_p = (pred[:,:,1:2]>0.5).astype(np.uint8)\n",
    "    pred_p[label==2] = 0\n",
    "    pred_p = area_opening(pred_p.squeeze(), 625)\n",
    "\n",
    "    in_data = gdal.Open( os.path.join('img', 'labels', f'label_2019.tif'), gdalconst.GA_ReadOnly)\n",
    "    geo_transform = in_data.GetGeoTransform()\n",
    "    x_min = geo_transform[0]\n",
    "    y_max = geo_transform[3]\n",
    "    x_max = x_min + geo_transform[1] * in_data.RasterXSize\n",
    "    y_min = y_max + geo_transform[5] * in_data.RasterYSize\n",
    "    x_res = in_data.RasterXSize\n",
    "    y_res = in_data.RasterYSize\n",
    "    crs = in_data.GetSpatialRef()\n",
    "    proj = in_data.GetProjection()\n",
    "\n",
    "    output = os.path.join(visual_path, f'pred_bin_{exp_name}_{test_image}.tif')\n",
    "    target_ds = gdal.GetDriverByName('GTiff').Create(output, x_res, y_res, 1, gdal.GDT_Byte)\n",
    "    \n",
    "    target_ds.SetGeoTransform(geo_transform)\n",
    "    target_ds.SetSpatialRef(crs)\n",
    "    target_ds.SetProjection(proj)\n",
    "    \n",
    "    band = target_ds.GetRasterBand(1)\n",
    "    band.WriteArray(pred_p, 0, 0)\n",
    "    \n",
    "    band.FlushCache()\n",
    "    target_ds = None"
   ]
  },
  {
   "cell_type": "markdown",
   "id": "c79c088c",
   "metadata": {},
   "source": [
    "## Create Geotiff Binary Predictions"
   ]
  },
  {
   "cell_type": "code",
   "execution_count": 5,
   "id": "0f18bfd3",
   "metadata": {},
   "outputs": [
    {
     "data": {
      "application/vnd.jupyter.widget-view+json": {
       "model_id": "f1527cf9863445b0a3ce68d85db08167",
       "version_major": 2,
       "version_minor": 0
      },
      "text/plain": [
       "Tiles evaluated:   0%|          | 0/30 [00:00<?, ?it/s]"
      ]
     },
     "metadata": {},
     "output_type": "display_data"
    }
   ],
   "source": [
    "with fiona.open(grid_save) as grid:\n",
    "    for feat in tqdm_notebook(grid, desc = 'Tiles evaluated'):\n",
    "        if feat['properties']['dataset'] !=2:\n",
    "            continue\n",
    "        feat_id = int(feat['properties']['id'])\n",
    "        \n",
    "        pred = np.load(os.path.join(predictions_path, f'{feat_id}.npy'))\n",
    "        fz = np.load(os.path.join(test_tiles_path, f'{feat_id}.npz'))\n",
    "        label = fz['label']\n",
    "        pred_b = np.zeros_like(label)\n",
    "        pred_b[pred[:,:,1]>0.5] = 1\n",
    "        pred_b[label == 2] = 0\n",
    "        pred_b = area_opening(pred_b.squeeze(), 625)\n",
    "        \n",
    "        \n",
    "        \n",
    "        in_data = gdal.Open( os.path.join('img', 'labels', f'label_{feat_id}.tif'), gdalconst.GA_ReadOnly)\n",
    "        geo_transform = in_data.GetGeoTransform()\n",
    "        x_min = geo_transform[0]\n",
    "        y_max = geo_transform[3]\n",
    "        x_max = x_min + geo_transform[1] * in_data.RasterXSize\n",
    "        y_min = y_max + geo_transform[5] * in_data.RasterYSize\n",
    "        x_res = in_data.RasterXSize\n",
    "        y_res = in_data.RasterYSize\n",
    "        crs = in_data.GetSpatialRef()\n",
    "        proj = in_data.GetProjection()\n",
    "        \n",
    "        output = os.path.join(visual_path, f'{feat_id}_binary_pred_binary_exp_{exp_n}.tif')\n",
    "        target_ds = gdal.GetDriverByName('GTiff').Create(output, x_res, y_res, 1, gdal.GDT_Byte)\n",
    "        \n",
    "        target_ds.SetGeoTransform(geo_transform)\n",
    "        target_ds.SetSpatialRef(crs)\n",
    "        target_ds.SetProjection(proj)\n",
    "        \n",
    "        band = target_ds.GetRasterBand(1)\n",
    "        band.WriteArray(pred_b, 0, 0)\n",
    "        \n",
    "        band.FlushCache()\n",
    "        target_ds = None\n"
   ]
  },
  {
   "cell_type": "code",
   "execution_count": 20,
   "id": "16f369ef",
   "metadata": {},
   "outputs": [
    {
     "data": {
      "text/plain": [
       "(2896, 2895, 1)"
      ]
     },
     "execution_count": 20,
     "metadata": {},
     "output_type": "execute_result"
    }
   ],
   "source": [
    "pred_b.shape"
   ]
  },
  {
   "cell_type": "markdown",
   "id": "d54e6504",
   "metadata": {},
   "source": [
    "## Create Geotiff error binary"
   ]
  },
  {
   "cell_type": "code",
   "execution_count": 21,
   "id": "c63fefc4",
   "metadata": {},
   "outputs": [
    {
     "data": {
      "application/vnd.jupyter.widget-view+json": {
       "model_id": "b9f9e70ae73c44c582a6579cf5ccdcfc",
       "version_major": 2,
       "version_minor": 0
      },
      "text/plain": [
       "Tiles evaluated:   0%|          | 0/30 [00:00<?, ?it/s]"
      ]
     },
     "metadata": {},
     "output_type": "display_data"
    }
   ],
   "source": [
    "with fiona.open(grid_save) as grid:\n",
    "    for feat in tqdm_notebook(grid, desc = 'Tiles evaluated'):\n",
    "        if feat['properties']['dataset'] !=2:\n",
    "            continue\n",
    "        feat_id = int(feat['properties']['id'])\n",
    "        \n",
    "        pred = np.load(os.path.join(predictions_path, f'{feat_id}.npy'))\n",
    "        fz = np.load(os.path.join(test_tiles_path, f'{feat_id}.npz'))\n",
    "        label = fz['label']\n",
    "        pred_b = np.zeros_like(label)\n",
    "        pred_b[pred[:,:,1]>0.5] = 1\n",
    "        pred_b[label == 2] = 0\n",
    "        pred_b = area_opening(pred_b.squeeze(), 625)\n",
    "        pred_b = np.expand_dims(pred_b, axis=-1)\n",
    "        \n",
    "        error_b = np.zeros_like(label)\n",
    "        error_b[label==2] = 1 #background\n",
    "        error_b[np.logical_and(label==1, pred_b==0)] = 2 #FN\n",
    "        error_b[np.logical_and(label==0, pred_b==1)] = 3 #FP\n",
    "        error_b[np.logical_and(label==1, pred_b==1)] = 4 #TP\n",
    "        error_b[np.logical_and(label==0, pred_b==0)] = 5 #TN\n",
    "        \n",
    "        \n",
    "        \n",
    "        in_data = gdal.Open( os.path.join('img', 'labels', f'label_{feat_id}.tif'), gdalconst.GA_ReadOnly)\n",
    "        geo_transform = in_data.GetGeoTransform()\n",
    "        x_min = geo_transform[0]\n",
    "        y_max = geo_transform[3]\n",
    "        x_max = x_min + geo_transform[1] * in_data.RasterXSize\n",
    "        y_min = y_max + geo_transform[5] * in_data.RasterYSize\n",
    "        x_res = in_data.RasterXSize\n",
    "        y_res = in_data.RasterYSize\n",
    "        crs = in_data.GetSpatialRef()\n",
    "        proj = in_data.GetProjection()\n",
    "        \n",
    "        output = os.path.join(visual_path, f'{feat_id}_binary_error_b_exp_{exp_n}.tif')\n",
    "        target_ds = gdal.GetDriverByName('GTiff').Create(output, x_res, y_res, 1, gdal.GDT_Byte)\n",
    "        \n",
    "        target_ds.SetGeoTransform(geo_transform)\n",
    "        target_ds.SetSpatialRef(crs)\n",
    "        target_ds.SetProjection(proj)\n",
    "        \n",
    "        band = target_ds.GetRasterBand(1)\n",
    "        band.WriteArray(error_b[:,:,0], 0, 0)\n",
    "        \n",
    "        band.FlushCache()\n",
    "        target_ds = None\n"
   ]
  },
  {
   "cell_type": "markdown",
   "id": "ca37a9a4",
   "metadata": {},
   "source": [
    "## Generate minimum error map"
   ]
  },
  {
   "cell_type": "code",
   "execution_count": 10,
   "id": "7382f4e4",
   "metadata": {},
   "outputs": [
    {
     "data": {
      "application/vnd.jupyter.widget-view+json": {
       "model_id": "be3ff3de698e4b45b0ae591a95d8dd10",
       "version_major": 2,
       "version_minor": 0
      },
      "text/plain": [
       "Tiles evaluated:   0%|          | 0/30 [00:00<?, ?it/s]"
      ]
     },
     "metadata": {},
     "output_type": "display_data"
    }
   ],
   "source": [
    "opt_exp = 1\n",
    "sar_exp = 2\n",
    "fus_exp = 3\n",
    "\n",
    "\n",
    "output_path = os.path.join('exps', 'compile')\n",
    "\n",
    "with fiona.open(grid_save) as grid:\n",
    "    for feat in tqdm_notebook(grid, desc = 'Tiles evaluated'):\n",
    "        if feat['properties']['dataset'] !=2:\n",
    "            continue\n",
    "        feat_id = int(feat['properties']['id'])\n",
    "\n",
    "        opt_pred = np.load(os.path.join('exps', f'exp_{opt_exp}', 'results', 'predictions', f'{feat_id}.npy'))[:,:,1:2]\n",
    "        sar_pred = np.load(os.path.join('exps', f'exp_{sar_exp}', 'results', 'predictions', f'{feat_id}.npy'))[:,:,1:2]\n",
    "        fus_pred = np.load(os.path.join('exps', f'exp_{fus_exp}', 'results', 'predictions', f'{feat_id}.npy'))[:,:,1:2]\n",
    "        fz = np.load(os.path.join(test_tiles_path, f'{feat_id}.npz'))\n",
    "        label = fz['label']\n",
    "\n",
    "        error_min = np.zeros_like(label)\n",
    "        gt = label ==1\n",
    "        opt_error = np.abs(opt_pred - gt)\n",
    "        sar_error = np.abs(sar_pred - gt)\n",
    "        fus_error = np.abs(fus_pred - gt)\n",
    "\n",
    "        errors = np.concatenate([opt_error, sar_error, fus_error], axis=2)\n",
    "        errors_arg = np.expand_dims(np.argmin(errors, axis=2), axis=-1)+1\n",
    "        errors_arg[label==2] = 0\n",
    "\n",
    "\n",
    "        in_data = gdal.Open( os.path.join('img', 'labels', f'label_{feat_id}.tif'), gdalconst.GA_ReadOnly)\n",
    "        geo_transform = in_data.GetGeoTransform()\n",
    "        x_min = geo_transform[0]\n",
    "        y_max = geo_transform[3]\n",
    "        x_max = x_min + geo_transform[1] * in_data.RasterXSize\n",
    "        y_min = y_max + geo_transform[5] * in_data.RasterYSize\n",
    "        x_res = in_data.RasterXSize\n",
    "        y_res = in_data.RasterYSize\n",
    "        crs = in_data.GetSpatialRef()\n",
    "        proj = in_data.GetProjection()\n",
    "        \n",
    "        output = os.path.join(output_path, f'{feat_id}_error.tif')\n",
    "        target_ds = gdal.GetDriverByName('GTiff').Create(output, x_res, y_res, 1, gdal.GDT_Byte)\n",
    "        \n",
    "        target_ds.SetGeoTransform(geo_transform)\n",
    "        target_ds.SetSpatialRef(crs)\n",
    "        target_ds.SetProjection(proj)\n",
    "        \n",
    "        band = target_ds.GetRasterBand(1)\n",
    "        band.WriteArray(np.squeeze(errors_arg), 0, 0)\n",
    "        \n",
    "        band.FlushCache()\n",
    "        target_ds = None\n",
    "\n",
    "\n"
   ]
  },
  {
   "cell_type": "markdown",
   "id": "4e3ac214",
   "metadata": {},
   "source": []
  },
  {
   "cell_type": "code",
   "execution_count": null,
   "id": "8f4b8082",
   "metadata": {},
   "outputs": [],
   "source": []
  },
  {
   "cell_type": "code",
   "execution_count": null,
   "id": "4af1d599",
   "metadata": {},
   "outputs": [],
   "source": []
  },
  {
   "cell_type": "code",
   "execution_count": null,
   "id": "057bcf1b",
   "metadata": {},
   "outputs": [],
   "source": []
  }
 ],
 "metadata": {
  "interpreter": {
   "hash": "6984327cd4a671f1c687c03fe0b5d8b7594868635f0d5dbeb7c4ac1a044793af"
  },
  "kernelspec": {
   "display_name": "Python 3 (ipykernel)",
   "language": "python",
   "name": "python3"
  },
  "language_info": {
   "codemirror_mode": {
    "name": "ipython",
    "version": 3
   },
   "file_extension": ".py",
   "mimetype": "text/x-python",
   "name": "python",
   "nbconvert_exporter": "python",
   "pygments_lexer": "ipython3",
   "version": "3.9.12"
  }
 },
 "nbformat": 4,
 "nbformat_minor": 5
}
